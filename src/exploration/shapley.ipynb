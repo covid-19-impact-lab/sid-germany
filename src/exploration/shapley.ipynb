{
 "cells": [
  {
   "cell_type": "code",
   "execution_count": 59,
   "id": "54128271-8eba-4722-bc0f-9afb58e252b2",
   "metadata": {},
   "outputs": [],
   "source": [
    "import dask.dataframe as dd\n",
    "import matplotlib.pyplot as plt\n",
    "import pandas as pd\n",
    "\n",
    "from src.config import BLD"
   ]
  },
  {
   "cell_type": "code",
   "execution_count": 2,
   "id": "8b6819f7-caeb-4789-b3f3-90493f083322",
   "metadata": {},
   "outputs": [],
   "source": [
    "scenarios = {}\n",
    "for scenario in [\n",
    "    \"spring_baseline\",\n",
    "    \"spring_without_rapid_tests_and_no_vaccinations\",\n",
    "    \"spring_without_vaccinations_without_seasonality\",\n",
    "    \"spring_without_rapid_tests_without_seasonality\",\n",
    "    \"spring_without_rapid_tests\",\n",
    "    \"spring_without_vaccines\",\n",
    "    \"spring_without_seasonality\",\n",
    "    \"spring_no_effects\",\n",
    "]:\n",
    "    scenarios[scenario] = pd.read_pickle(\n",
    "        BLD\n",
    "        / \"simulations\"\n",
    "        / \"time_series\"\n",
    "        / scenario\n",
    "        / \"full_newly_infected_weekly_incidence.pkl\"\n",
    "    )"
   ]
  },
  {
   "cell_type": "code",
   "execution_count": 3,
   "id": "fd4df276-9299-4f3d-bc02-576303bd5bb4",
   "metadata": {},
   "outputs": [],
   "source": [
    "df = {\"name\": [], \"payoff\": []}\n",
    "for name, df_ in scenarios.items():\n",
    "    df[\"name\"].append(name)\n",
    "    df[\"payoff\"].append((scenarios[name].mean(axis=1)).sum())\n",
    "\n",
    "df = pd.DataFrame(df)"
   ]
  },
  {
   "cell_type": "code",
   "execution_count": 4,
   "id": "992c6a2e-57da-41f5-8e2f-b1074d8be162",
   "metadata": {},
   "outputs": [
    {
     "data": {
      "text/html": [
       "<div>\n",
       "<style scoped>\n",
       "    .dataframe tbody tr th:only-of-type {\n",
       "        vertical-align: middle;\n",
       "    }\n",
       "\n",
       "    .dataframe tbody tr th {\n",
       "        vertical-align: top;\n",
       "    }\n",
       "\n",
       "    .dataframe thead th {\n",
       "        text-align: right;\n",
       "    }\n",
       "</style>\n",
       "<table border=\"1\" class=\"dataframe\">\n",
       "  <thead>\n",
       "    <tr style=\"text-align: right;\">\n",
       "      <th></th>\n",
       "      <th>name</th>\n",
       "      <th>payoff</th>\n",
       "    </tr>\n",
       "  </thead>\n",
       "  <tbody>\n",
       "    <tr>\n",
       "      <th>0</th>\n",
       "      <td>spring_baseline</td>\n",
       "      <td>26451.301344</td>\n",
       "    </tr>\n",
       "    <tr>\n",
       "      <th>1</th>\n",
       "      <td>spring_without_rapid_tests_and_no_vaccinations</td>\n",
       "      <td>76568.394624</td>\n",
       "    </tr>\n",
       "    <tr>\n",
       "      <th>2</th>\n",
       "      <td>spring_without_vaccinations_without_seasonality</td>\n",
       "      <td>56199.389438</td>\n",
       "    </tr>\n",
       "    <tr>\n",
       "      <th>3</th>\n",
       "      <td>spring_without_rapid_tests_without_seasonality</td>\n",
       "      <td>139692.328888</td>\n",
       "    </tr>\n",
       "    <tr>\n",
       "      <th>4</th>\n",
       "      <td>spring_without_rapid_tests</td>\n",
       "      <td>58280.057488</td>\n",
       "    </tr>\n",
       "    <tr>\n",
       "      <th>5</th>\n",
       "      <td>spring_without_vaccines</td>\n",
       "      <td>29353.482569</td>\n",
       "    </tr>\n",
       "    <tr>\n",
       "      <th>6</th>\n",
       "      <td>spring_without_seasonality</td>\n",
       "      <td>46288.145883</td>\n",
       "    </tr>\n",
       "    <tr>\n",
       "      <th>7</th>\n",
       "      <td>spring_no_effects</td>\n",
       "      <td>190042.173856</td>\n",
       "    </tr>\n",
       "  </tbody>\n",
       "</table>\n",
       "</div>"
      ],
      "text/plain": [
       "                                              name         payoff\n",
       "0                                  spring_baseline   26451.301344\n",
       "1   spring_without_rapid_tests_and_no_vaccinations   76568.394624\n",
       "2  spring_without_vaccinations_without_seasonality   56199.389438\n",
       "3   spring_without_rapid_tests_without_seasonality  139692.328888\n",
       "4                       spring_without_rapid_tests   58280.057488\n",
       "5                          spring_without_vaccines   29353.482569\n",
       "6                       spring_without_seasonality   46288.145883\n",
       "7                                spring_no_effects  190042.173856"
      ]
     },
     "execution_count": 4,
     "metadata": {},
     "output_type": "execute_result"
    }
   ],
   "source": [
    "df"
   ]
  },
  {
   "cell_type": "code",
   "execution_count": 5,
   "id": "d89652f3-f04f-4184-b536-ccc2a3bc3813",
   "metadata": {},
   "outputs": [],
   "source": [
    "df[\"members\"] = [\n",
    "    frozenset([\"rapid_tests\", \"vaccinations\", \"seasonality\"]),\n",
    "    frozenset([\"seasonality\"]),\n",
    "    frozenset([\"rapid_tests\"]),\n",
    "    frozenset([\"vaccinations\"]),\n",
    "    frozenset([\"vaccinations\", \"seasonality\"]),\n",
    "    frozenset([\"rapid_tests\", \"seasonality\"]),\n",
    "    frozenset([\"rapid_tests\", \"vaccinations\"]),\n",
    "    frozenset([]),\n",
    "]"
   ]
  },
  {
   "cell_type": "code",
   "execution_count": 6,
   "id": "9add0433-f93e-4fe6-9344-01a5432de88e",
   "metadata": {},
   "outputs": [],
   "source": [
    "df[\"payoff\"] = df[\"payoff\"] - df[\"payoff\"].max()"
   ]
  },
  {
   "cell_type": "code",
   "execution_count": 7,
   "id": "a9cf55c4-fcca-49f5-aecb-a088c8bb17b2",
   "metadata": {},
   "outputs": [
    {
     "data": {
      "text/html": [
       "<div>\n",
       "<style scoped>\n",
       "    .dataframe tbody tr th:only-of-type {\n",
       "        vertical-align: middle;\n",
       "    }\n",
       "\n",
       "    .dataframe tbody tr th {\n",
       "        vertical-align: top;\n",
       "    }\n",
       "\n",
       "    .dataframe thead th {\n",
       "        text-align: right;\n",
       "    }\n",
       "</style>\n",
       "<table border=\"1\" class=\"dataframe\">\n",
       "  <thead>\n",
       "    <tr style=\"text-align: right;\">\n",
       "      <th></th>\n",
       "      <th>name</th>\n",
       "      <th>payoff</th>\n",
       "      <th>members</th>\n",
       "    </tr>\n",
       "  </thead>\n",
       "  <tbody>\n",
       "    <tr>\n",
       "      <th>0</th>\n",
       "      <td>spring_baseline</td>\n",
       "      <td>-163590.872512</td>\n",
       "      <td>(rapid_tests, vaccinations, seasonality)</td>\n",
       "    </tr>\n",
       "    <tr>\n",
       "      <th>1</th>\n",
       "      <td>spring_without_rapid_tests_and_no_vaccinations</td>\n",
       "      <td>-113473.779231</td>\n",
       "      <td>(seasonality)</td>\n",
       "    </tr>\n",
       "    <tr>\n",
       "      <th>2</th>\n",
       "      <td>spring_without_vaccinations_without_seasonality</td>\n",
       "      <td>-133842.784418</td>\n",
       "      <td>(rapid_tests)</td>\n",
       "    </tr>\n",
       "    <tr>\n",
       "      <th>3</th>\n",
       "      <td>spring_without_rapid_tests_without_seasonality</td>\n",
       "      <td>-50349.844968</td>\n",
       "      <td>(vaccinations)</td>\n",
       "    </tr>\n",
       "    <tr>\n",
       "      <th>4</th>\n",
       "      <td>spring_without_rapid_tests</td>\n",
       "      <td>-131762.116368</td>\n",
       "      <td>(seasonality, vaccinations)</td>\n",
       "    </tr>\n",
       "    <tr>\n",
       "      <th>5</th>\n",
       "      <td>spring_without_vaccines</td>\n",
       "      <td>-160688.691287</td>\n",
       "      <td>(rapid_tests, seasonality)</td>\n",
       "    </tr>\n",
       "    <tr>\n",
       "      <th>6</th>\n",
       "      <td>spring_without_seasonality</td>\n",
       "      <td>-143754.027973</td>\n",
       "      <td>(rapid_tests, vaccinations)</td>\n",
       "    </tr>\n",
       "    <tr>\n",
       "      <th>7</th>\n",
       "      <td>spring_no_effects</td>\n",
       "      <td>0.000000</td>\n",
       "      <td>()</td>\n",
       "    </tr>\n",
       "  </tbody>\n",
       "</table>\n",
       "</div>"
      ],
      "text/plain": [
       "                                              name         payoff  \\\n",
       "0                                  spring_baseline -163590.872512   \n",
       "1   spring_without_rapid_tests_and_no_vaccinations -113473.779231   \n",
       "2  spring_without_vaccinations_without_seasonality -133842.784418   \n",
       "3   spring_without_rapid_tests_without_seasonality  -50349.844968   \n",
       "4                       spring_without_rapid_tests -131762.116368   \n",
       "5                          spring_without_vaccines -160688.691287   \n",
       "6                       spring_without_seasonality -143754.027973   \n",
       "7                                spring_no_effects       0.000000   \n",
       "\n",
       "                                    members  \n",
       "0  (rapid_tests, vaccinations, seasonality)  \n",
       "1                             (seasonality)  \n",
       "2                             (rapid_tests)  \n",
       "3                            (vaccinations)  \n",
       "4               (seasonality, vaccinations)  \n",
       "5                (rapid_tests, seasonality)  \n",
       "6               (rapid_tests, vaccinations)  \n",
       "7                                        ()  "
      ]
     },
     "execution_count": 7,
     "metadata": {},
     "output_type": "execute_result"
    }
   ],
   "source": [
    "df"
   ]
  },
  {
   "cell_type": "code",
   "execution_count": 8,
   "id": "217fa6e1-2af1-4388-befd-8a17bf8b7984",
   "metadata": {},
   "outputs": [],
   "source": [
    "from shapley import compute_shapley_values"
   ]
  },
  {
   "cell_type": "code",
   "execution_count": 9,
   "id": "ccd974a5-216b-4887-bd46-ced31edb45e5",
   "metadata": {},
   "outputs": [],
   "source": [
    "shapley_values = compute_shapley_values(df)"
   ]
  },
  {
   "cell_type": "code",
   "execution_count": 10,
   "id": "83b509b8-6346-4214-80d8-d81b417f32d3",
   "metadata": {},
   "outputs": [],
   "source": [
    "ratios = shapley_values / shapley_values.sum()"
   ]
  },
  {
   "cell_type": "code",
   "execution_count": 11,
   "id": "5e0b7a33-33a5-40ec-acf3-541218aed053",
   "metadata": {},
   "outputs": [
    {
     "data": {
      "text/plain": [
       "shapley_value_rapid_tests    -78660.362697\n",
       "shapley_value_seasonality    -62479.904302\n",
       "shapley_value_vaccinations   -22450.605513\n",
       "dtype: float64"
      ]
     },
     "execution_count": 11,
     "metadata": {},
     "output_type": "execute_result"
    }
   ],
   "source": [
    "shapley_values"
   ]
  },
  {
   "cell_type": "code",
   "execution_count": 12,
   "id": "d8633834-a79a-49f5-b485-8aac02dbb20f",
   "metadata": {},
   "outputs": [
    {
     "data": {
      "text/plain": [
       "shapley_value_rapid_tests     0.480836\n",
       "shapley_value_seasonality     0.381928\n",
       "shapley_value_vaccinations    0.137236\n",
       "dtype: float64"
      ]
     },
     "execution_count": 12,
     "metadata": {},
     "output_type": "execute_result"
    }
   ],
   "source": [
    "ratios"
   ]
  },
  {
   "cell_type": "code",
   "execution_count": 19,
   "id": "f6394f99-134b-4ca8-9b53-ce876f2d9dc8",
   "metadata": {},
   "outputs": [],
   "source": [
    "plot_df = pd.DataFrame(\n",
    "    {\n",
    "        \"baseline\": scenarios[\"spring_baseline\"].mean(axis=1),\n",
    "        \"no_effects\": scenarios[\"spring_no_effects\"].mean(axis=1),\n",
    "    }\n",
    ")"
   ]
  },
  {
   "cell_type": "code",
   "execution_count": 47,
   "id": "07d4e989-221b-4e4f-b8ed-71f6beaba931",
   "metadata": {},
   "outputs": [],
   "source": [
    "effects = [\"vaccinations\", \"seasonality\", \"rapid_tests\"]\n",
    "for effect in effects:\n",
    "    ratio = ratios.loc[f\"shapley_value_{effect}\"]\n",
    "    plot_df[effect] = ratio * (plot_df[\"no_effects\"] - plot_df[\"baseline\"])"
   ]
  },
  {
   "cell_type": "code",
   "execution_count": 56,
   "id": "0b6c5f11-cc5d-4b90-9efa-8ee7ed7de9ad",
   "metadata": {},
   "outputs": [],
   "source": [
    "plot_df[effects] = plot_df[effects].cumsum(axis=1).add(plot_df[\"baseline\"], axis=0)"
   ]
  },
  {
   "cell_type": "code",
   "execution_count": 57,
   "id": "7eed69c4-1fbd-4aee-8570-ebb6b0dda068",
   "metadata": {},
   "outputs": [
    {
     "data": {
      "text/plain": [
       "<AxesSubplot:xlabel='date'>"
      ]
     },
     "execution_count": 57,
     "metadata": {},
     "output_type": "execute_result"
    },
    {
     "data": {
      "image/png": "[encoded data removed]",
      "text/plain": [
       "<Figure size 432x288 with 1 Axes>"
      ]
     },
     "metadata": {
      "needs_background": "light"
     },
     "output_type": "display_data"
    }
   ],
   "source": [
    "plot_df.plot()"
   ]
  },
  {
   "cell_type": "code",
   "execution_count": 68,
   "id": "e7285547-60f5-4dd0-8c84-4fb8c2b9ac94",
   "metadata": {},
   "outputs": [
    {
     "data": {
      "image/png": "[encoded data removed]",
      "text/plain": [
       "<Figure size 432x288 with 1 Axes>"
      ]
     },
     "metadata": {
      "needs_background": "light"
     },
     "output_type": "display_data"
    }
   ],
   "source": [
    "fig, ax = plt.subplots()\n",
    "\n",
    "plot_df.plot(ax=ax)\n",
    "\n",
    "plt.fill_between(\n",
    "    plot_df.index, plot_df[\"seasonality\"], plot_df[\"rapid_tests\"], facecolor=\"C2\"\n",
    ")\n",
    "plt.fill_between(\n",
    "    plot_df.index, plot_df[\"vaccinations\"], plot_df[\"seasonality\"], facecolor=\"C4\"\n",
    ")\n",
    "plt.fill_between(\n",
    "    plot_df.index, plot_df[\"baseline\"], plot_df[\"vaccinations\"], facecolor=\"C3\"\n",
    ")\n",
    "\n",
    "plt.show()\n",
    "plt.close()"
   ]
  },
  {
   "cell_type": "code",
   "execution_count": null,
   "id": "e62b10a1-4e16-4875-8169-d0f5a7d38d6b",
   "metadata": {},
   "outputs": [],
   "source": []
  }
 ],
 "metadata": {
  "kernelspec": {
   "display_name": "Python 3",
   "language": "python",
   "name": "python3"
  },
  "language_info": {
   "codemirror_mode": {
    "name": "ipython",
    "version": 3
   },
   "file_extension": ".py",
   "mimetype": "text/x-python",
   "name": "python",
   "nbconvert_exporter": "python",
   "pygments_lexer": "ipython3",
   "version": "3.8.8"
  }
 },
 "nbformat": 4,
 "nbformat_minor": 5
}
