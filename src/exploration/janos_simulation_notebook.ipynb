{
 "cells": [
  {
   "cell_type": "code",
   "execution_count": 1,
   "id": "forced-olympus",
   "metadata": {},
   "outputs": [],
   "source": [
    "import itertools\n",
    "import warnings\n",
    "from time import time\n",
    "\n",
    "import matplotlib.pyplot as plt\n",
    "import numpy as np\n",
    "import pandas as pd\n",
    "import seaborn as sns\n",
    "\n",
    "from src.config import BLD, SRC\n",
    "from src.estimation.gridsearch import (\n",
    "    get_mask_around_diagonal,\n",
    "    run_1d_gridsearch,\n",
    "    run_2d_gridsearch,\n",
    ")\n",
    "from src.estimation.msm_criterion import (\n",
    "    get_index_bundles,\n",
    "    get_parallelizable_msm_criterion,\n",
    ")\n",
    "from src.manfred.shared import hash_array\n",
    "from src.plotting.msm_plots import plot_estimation_moment, plot_infection_channels\n",
    "from src.simulation.load_params import load_params\n",
    "from src.simulation.load_simulation_inputs import load_simulation_inputs\n",
    "\n",
    "DEBUG = True\n",
    "FALL_SIM_START = pd.Timestamp(\"2020-09-15\")\n",
    "FALL_SIM_END = pd.Timestamp(\"2020-12-22\")\n",
    "SPRING_SIM_START = pd.Timestamp(\"2021-02-05\")\n",
    "SPRING_SIM_END = pd.Timestamp(\"2021-02-28\")\n",
    "if DEBUG:\n",
    "    FALL_SIM_END = FALL_SIM_START + pd.Timedelta(days=5)\n",
    "    SPRING_SIM_END = SPRING_SIM_START + pd.Timedelta(days=5)\n",
    "\n",
    "warnings.filterwarnings(\n",
    "    \"ignore\", message=\"indexing past lexsort depth may impact performance.\"\n",
    ")\n",
    "%load_ext snakeviz"
   ]
  },
  {
   "cell_type": "markdown",
   "id": "weighted-healing",
   "metadata": {},
   "source": [
    "# Load the simulation inputs"
   ]
  },
  {
   "cell_type": "code",
   "execution_count": 2,
   "id": "respiratory-planner",
   "metadata": {
    "scrolled": true
   },
   "outputs": [],
   "source": [
    "params = load_params(\"baseline\")\n",
    "\n",
    "pmsm = get_parallelizable_msm_criterion(\n",
    "    prefix=\"gridsearch\",\n",
    "    fall_start_date=FALL_SIM_START,\n",
    "    fall_end_date=FALL_SIM_END,\n",
    "    spring_start_date=SPRING_SIM_START,\n",
    "    spring_end_date=SPRING_SIM_END,\n",
    "    mode=\"combined\",\n",
    "    debug=DEBUG,\n",
    ")"
   ]
  },
  {
   "cell_type": "markdown",
   "id": "chinese-estonia",
   "metadata": {},
   "source": [
    "# Modify Params"
   ]
  },
  {
   "cell_type": "code",
   "execution_count": 3,
   "id": "def19519",
   "metadata": {},
   "outputs": [],
   "source": [
    "index_bundles = get_index_bundles(params)\n",
    "hh_probs = index_bundles[\"hh\"]\n",
    "school_probs = index_bundles[\"school\"]\n",
    "young_educ_probs = index_bundles[\"young_educ\"]\n",
    "work_probs = index_bundles[\"work\"]\n",
    "other_probs = index_bundles[\"other\"]\n",
    "\n",
    "vacation_probs = params.query(\"category == 'additional_other_vacation_contact'\").index\n",
    "free_probs = [bundle[0] for bundle in list(index_bundles.values()) + [vacation_probs]]"
   ]
  },
  {
   "cell_type": "code",
   "execution_count": 4,
   "id": "2625c743",
   "metadata": {},
   "outputs": [
    {
     "data": {
      "text/html": [
       "<div>\n",
       "<style scoped>\n",
       "    .dataframe tbody tr th:only-of-type {\n",
       "        vertical-align: middle;\n",
       "    }\n",
       "\n",
       "    .dataframe tbody tr th {\n",
       "        vertical-align: top;\n",
       "    }\n",
       "\n",
       "    .dataframe thead th {\n",
       "        text-align: right;\n",
       "    }\n",
       "</style>\n",
       "<table border=\"1\" class=\"dataframe\">\n",
       "  <thead>\n",
       "    <tr style=\"text-align: right;\">\n",
       "      <th></th>\n",
       "      <th></th>\n",
       "      <th></th>\n",
       "      <th>value</th>\n",
       "    </tr>\n",
       "    <tr>\n",
       "      <th>category</th>\n",
       "      <th>subcategory</th>\n",
       "      <th>name</th>\n",
       "      <th></th>\n",
       "    </tr>\n",
       "  </thead>\n",
       "  <tbody>\n",
       "    <tr>\n",
       "      <th rowspan=\"5\" valign=\"top\">infection_prob</th>\n",
       "      <th>educ_school_0</th>\n",
       "      <th>educ_school_0</th>\n",
       "      <td>0.010</td>\n",
       "    </tr>\n",
       "    <tr>\n",
       "      <th>educ_preschool_0</th>\n",
       "      <th>educ_preschool_0</th>\n",
       "      <td>0.010</td>\n",
       "    </tr>\n",
       "    <tr>\n",
       "      <th>households</th>\n",
       "      <th>households</th>\n",
       "      <td>0.090</td>\n",
       "    </tr>\n",
       "    <tr>\n",
       "      <th>work_non_recurrent</th>\n",
       "      <th>work_non_recurrent</th>\n",
       "      <td>0.155</td>\n",
       "    </tr>\n",
       "    <tr>\n",
       "      <th>other_non_recurrent</th>\n",
       "      <th>other_non_recurrent</th>\n",
       "      <td>0.145</td>\n",
       "    </tr>\n",
       "    <tr>\n",
       "      <th>additional_other_vacation_contact</th>\n",
       "      <th>probability</th>\n",
       "      <th>Winterferien</th>\n",
       "      <td>0.300</td>\n",
       "    </tr>\n",
       "  </tbody>\n",
       "</table>\n",
       "</div>"
      ],
      "text/plain": [
       "                                                                           value\n",
       "category                          subcategory         name                      \n",
       "infection_prob                    educ_school_0       educ_school_0        0.010\n",
       "                                  educ_preschool_0    educ_preschool_0     0.010\n",
       "                                  households          households           0.090\n",
       "                                  work_non_recurrent  work_non_recurrent   0.155\n",
       "                                  other_non_recurrent other_non_recurrent  0.145\n",
       "additional_other_vacation_contact probability         Winterferien         0.300"
      ]
     },
     "execution_count": 4,
     "metadata": {},
     "output_type": "execute_result"
    }
   ],
   "source": [
    "params.loc[other_probs, \"value\"] = 0.145\n",
    "params.loc[young_educ_probs, \"value\"] = 0.01\n",
    "params.loc[school_probs, \"value\"] = 0.01\n",
    "params.loc[work_probs, \"value\"] = 0.155\n",
    "params.loc[hh_probs, \"value\"] = 0.09\n",
    "params.loc[vacation_probs, \"value\"] = 0.3\n",
    "params.loc[free_probs]"
   ]
  },
  {
   "cell_type": "code",
   "execution_count": 5,
   "id": "f4ee3003",
   "metadata": {},
   "outputs": [
    {
     "data": {
      "text/html": [
       "<div>\n",
       "<style scoped>\n",
       "    .dataframe tbody tr th:only-of-type {\n",
       "        vertical-align: middle;\n",
       "    }\n",
       "\n",
       "    .dataframe tbody tr th {\n",
       "        vertical-align: top;\n",
       "    }\n",
       "\n",
       "    .dataframe thead th {\n",
       "        text-align: right;\n",
       "    }\n",
       "</style>\n",
       "<table border=\"1\" class=\"dataframe\">\n",
       "  <thead>\n",
       "    <tr style=\"text-align: right;\">\n",
       "      <th></th>\n",
       "      <th></th>\n",
       "      <th></th>\n",
       "      <th>value</th>\n",
       "    </tr>\n",
       "    <tr>\n",
       "      <th>category</th>\n",
       "      <th>subcategory</th>\n",
       "      <th>name</th>\n",
       "      <th></th>\n",
       "    </tr>\n",
       "  </thead>\n",
       "  <tbody>\n",
       "    <tr>\n",
       "      <th rowspan=\"5\" valign=\"top\">infection_prob</th>\n",
       "      <th>households</th>\n",
       "      <th>households</th>\n",
       "      <td>0.09</td>\n",
       "    </tr>\n",
       "    <tr>\n",
       "      <th>educ_school_0</th>\n",
       "      <th>educ_school_0</th>\n",
       "      <td>0.01</td>\n",
       "    </tr>\n",
       "    <tr>\n",
       "      <th>educ_school_1</th>\n",
       "      <th>educ_school_1</th>\n",
       "      <td>0.01</td>\n",
       "    </tr>\n",
       "    <tr>\n",
       "      <th>educ_school_2</th>\n",
       "      <th>educ_school_2</th>\n",
       "      <td>0.01</td>\n",
       "    </tr>\n",
       "    <tr>\n",
       "      <th>educ_preschool_0</th>\n",
       "      <th>educ_preschool_0</th>\n",
       "      <td>0.01</td>\n",
       "    </tr>\n",
       "    <tr>\n",
       "      <th>...</th>\n",
       "      <th>...</th>\n",
       "      <th>...</th>\n",
       "      <td>...</td>\n",
       "    </tr>\n",
       "    <tr>\n",
       "      <th rowspan=\"3\" valign=\"top\">rapid_test_demand</th>\n",
       "      <th>hh_member_demand</th>\n",
       "      <th>2025-12-31</th>\n",
       "      <td>0.75</td>\n",
       "    </tr>\n",
       "    <tr>\n",
       "      <th rowspan=\"2\" valign=\"top\">reaction</th>\n",
       "      <th>hh_contacts_multiplier</th>\n",
       "      <td>0.70</td>\n",
       "    </tr>\n",
       "    <tr>\n",
       "      <th>not_hh_contacts_multiplier</th>\n",
       "      <td>0.15</td>\n",
       "    </tr>\n",
       "    <tr>\n",
       "      <th rowspan=\"2\" valign=\"top\">seasonality_effect</th>\n",
       "      <th rowspan=\"2\" valign=\"top\">seasonality_effect</th>\n",
       "      <th>weak</th>\n",
       "      <td>0.15</td>\n",
       "    </tr>\n",
       "    <tr>\n",
       "      <th>strong</th>\n",
       "      <td>0.25</td>\n",
       "    </tr>\n",
       "  </tbody>\n",
       "</table>\n",
       "<p>802 rows × 1 columns</p>\n",
       "</div>"
      ],
      "text/plain": [
       "                                                                  value\n",
       "category           subcategory        name                             \n",
       "infection_prob     households         households                   0.09\n",
       "                   educ_school_0      educ_school_0                0.01\n",
       "                   educ_school_1      educ_school_1                0.01\n",
       "                   educ_school_2      educ_school_2                0.01\n",
       "                   educ_preschool_0   educ_preschool_0             0.01\n",
       "...                                                                 ...\n",
       "rapid_test_demand  hh_member_demand   2025-12-31                   0.75\n",
       "                   reaction           hh_contacts_multiplier       0.70\n",
       "                                      not_hh_contacts_multiplier   0.15\n",
       "seasonality_effect seasonality_effect weak                         0.15\n",
       "                                      strong                       0.25\n",
       "\n",
       "[802 rows x 1 columns]"
      ]
     },
     "execution_count": 5,
     "metadata": {},
     "output_type": "execute_result"
    }
   ],
   "source": [
    "params"
   ]
  },
  {
   "cell_type": "markdown",
   "id": "instant-reception",
   "metadata": {},
   "source": [
    "# Run estimation"
   ]
  },
  {
   "cell_type": "code",
   "execution_count": 6,
   "id": "e2ca0900",
   "metadata": {},
   "outputs": [
    {
     "data": {
      "text/plain": [
       "array([[ True]])"
      ]
     },
     "execution_count": 6,
     "metadata": {},
     "output_type": "execute_result"
    }
   ],
   "source": [
    "dimensions = \"1d\"\n",
    "\n",
    "n_gridpoints = 1\n",
    "loc1 = work_probs\n",
    "gridspec1 = (0.145, 0.145, n_gridpoints)\n",
    "# only used if 2d\n",
    "loc2 = other_probs\n",
    "gridspec2 = (0.145, 0.155, n_gridpoints)\n",
    "\n",
    "n_seeds = 2\n",
    "n_cores = 1\n",
    "\n",
    "mask = get_mask_around_diagonal(n_gridpoints, offset=1)\n",
    "mask"
   ]
  },
  {
   "cell_type": "code",
   "execution_count": 7,
   "id": "5bb69521",
   "metadata": {
    "scrolled": false
   },
   "outputs": [
    {
     "name": "stderr",
     "output_type": "stream",
     "text": [
      "Start the simulation...\n",
      "2020-09-20: 100%|██████████| 6/6 [00:08<00:00,  1.34s/it]\n",
      "/home/janos/Dropbox/Projects/sid-germany/src/create_initial_states/create_initial_conditions.py:139: UserWarning: The group specific share known cases is > 0.95 for some date and group. If this happened with debug states you can simply ignore it. If it happened with full states, you should investigate it. The group's share known cases has been clipped to 0.95.\n",
      "  warnings.warn(\n",
      "/home/janos/Dropbox/Projects/sid-germany/src/create_initial_states/create_initial_conditions.py:149: UserWarning: The group specific share known cases is < 0.05 for some date and group. If this happened with debug states you can simply ignore it. If it happened with full states, you should investigate it. The group's share known cases has been clipped to 0.05.\n",
      "  warnings.warn(\n",
      "Start the simulation...\n",
      "2021-02-10: 100%|██████████| 6/6 [00:06<00:00,  1.04s/it]\n",
      "Start the simulation...\n",
      "2020-09-20: 100%|██████████| 6/6 [00:04<00:00,  1.22it/s]\n",
      "/home/janos/Dropbox/Projects/sid-germany/src/create_initial_states/create_initial_conditions.py:149: UserWarning: The group specific share known cases is < 0.05 for some date and group. If this happened with debug states you can simply ignore it. If it happened with full states, you should investigate it. The group's share known cases has been clipped to 0.05.\n",
      "  warnings.warn(\n",
      "Start the simulation...\n",
      "2021-02-10: 100%|██████████| 6/6 [00:06<00:00,  1.04s/it]\n"
     ]
    }
   ],
   "source": [
    "if dimensions == \"2d\":\n",
    "    results, grid, best_index, fig = run_2d_gridsearch(\n",
    "        func=pmsm,\n",
    "        params=params,\n",
    "        loc1=loc1,\n",
    "        gridspec1=gridspec1,\n",
    "        loc2=loc2,\n",
    "        gridspec2=gridspec2,\n",
    "        n_seeds=n_seeds,\n",
    "        n_cores=n_cores,\n",
    "        mask=mask,\n",
    "    )\n",
    "else:\n",
    "    results, grid, best_index, fig = run_1d_gridsearch(\n",
    "        func=pmsm,\n",
    "        params=params,\n",
    "        loc=loc1,\n",
    "        gridspec=gridspec1,\n",
    "        n_seeds=n_seeds,\n",
    "        n_cores=n_cores,\n",
    "    )"
   ]
  },
  {
   "cell_type": "code",
   "execution_count": 9,
   "id": "f9e1176a",
   "metadata": {},
   "outputs": [
    {
     "data": {
      "image/png": "[encoded data removed]",
      "text/plain": [
       "<Figure size 500x400 with 1 Axes>"
      ]
     },
     "execution_count": 9,
     "metadata": {},
     "output_type": "execute_result"
    }
   ],
   "source": [
    "fig"
   ]
  },
  {
   "cell_type": "code",
   "execution_count": 10,
   "id": "38be233c",
   "metadata": {
    "scrolled": false
   },
   "outputs": [
    {
     "data": {
      "image/png": "[encoded data removed]",
      "text/plain": [
       "<Figure size 450x400 with 1 Axes>"
      ]
     },
     "execution_count": 10,
     "metadata": {},
     "output_type": "execute_result"
    }
   ],
   "source": [
    "plot_estimation_moment(results[best_index], \"aggregated_infections\")"
   ]
  },
  {
   "cell_type": "code",
   "execution_count": 19,
   "id": "d67f422f",
   "metadata": {},
   "outputs": [],
   "source": [
    "# plot_infection_channels(results[best_index], aggregate=True)"
   ]
  },
  {
   "cell_type": "code",
   "execution_count": 12,
   "id": "50bfd9cd",
   "metadata": {},
   "outputs": [
    {
     "data": {
      "text/plain": [
       "0.145"
      ]
     },
     "execution_count": 12,
     "metadata": {},
     "output_type": "execute_result"
    }
   ],
   "source": [
    "grid[best_index]"
   ]
  },
  {
   "cell_type": "code",
   "execution_count": 13,
   "id": "650fc141",
   "metadata": {},
   "outputs": [
    {
     "data": {
      "text/plain": [
       "0"
      ]
     },
     "execution_count": 13,
     "metadata": {},
     "output_type": "execute_result"
    }
   ],
   "source": [
    "best_index"
   ]
  },
  {
   "cell_type": "code",
   "execution_count": 14,
   "id": "ec56e559",
   "metadata": {},
   "outputs": [
    {
     "data": {
      "text/plain": [
       "9.026345491902141"
      ]
     },
     "execution_count": 14,
     "metadata": {},
     "output_type": "execute_result"
    }
   ],
   "source": [
    "np.mean([res[\"value\"] for res in results[best_index]])\n",
    "# 28.13"
   ]
  },
  {
   "cell_type": "code",
   "execution_count": null,
   "id": "6baf9e31",
   "metadata": {},
   "outputs": [],
   "source": []
  }
 ],
 "metadata": {
  "kernelspec": {
   "display_name": "Python 3",
   "language": "python",
   "name": "python3"
  },
  "language_info": {
   "codemirror_mode": {
    "name": "ipython",
    "version": 3
   },
   "file_extension": ".py",
   "mimetype": "text/x-python",
   "name": "python",
   "nbconvert_exporter": "python",
   "pygments_lexer": "ipython3",
   "version": "3.8.10"
  }
 },
 "nbformat": 4,
 "nbformat_minor": 5
}
