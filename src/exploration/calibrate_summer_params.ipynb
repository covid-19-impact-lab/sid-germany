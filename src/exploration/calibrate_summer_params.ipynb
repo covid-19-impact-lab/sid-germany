{
 "cells": [
  {
   "cell_type": "code",
   "execution_count": 1,
   "id": "d70d911d",
   "metadata": {},
   "outputs": [],
   "source": [
    "import itertools\n",
    "import warnings\n",
    "from time import time\n",
    "\n",
    "import matplotlib.pyplot as plt\n",
    "import numpy as np\n",
    "import pandas as pd\n",
    "import seaborn as sns\n",
    "\n",
    "from src.config import BLD, SRC\n",
    "from src.estimation.gridsearch import (\n",
    "    get_mask_around_diagonal,\n",
    "    run_1d_gridsearch,\n",
    "    run_2d_gridsearch,\n",
    ")\n",
    "from src.estimation.msm_criterion import (\n",
    "    get_index_bundles,\n",
    "    get_parallelizable_msm_criterion,\n",
    ")\n",
    "from src.manfred.shared import hash_array\n",
    "from src.plotting.msm_plots import plot_estimation_moment, plot_infection_channels\n",
    "from src.simulation.load_params import load_params\n",
    "from src.simulation.load_simulation_inputs import load_simulation_inputs\n",
    "\n",
    "# -----------------------------------------------------------------------------------\n",
    "\n",
    "DEBUG = False\n",
    "prefix = \"delta_untl_june_2_3_infectious\"\n",
    "\n",
    "# -----------------------------------------------------------------------------------\n",
    "\n",
    "\n",
    "FALL_SIM_START = pd.Timestamp(\"2021-04-11\")  # spring end is 2021-04-10\n",
    "FALL_SIM_END = pd.Timestamp(\"2021-07-01\")\n",
    "\n",
    "SPRING_SIM_START = pd.Timestamp(\"2021-07-02\")  # summer end. not used\n",
    "SPRING_SIM_END = pd.Timestamp(\"2021-08-26\")  # not used\n",
    "\n",
    "if DEBUG:\n",
    "    FALL_SIM_END = FALL_SIM_START + pd.Timedelta(days=3)\n",
    "    SPRING_SIM_END = SPRING_SIM_START + pd.Timedelta(days=3)\n",
    "\n",
    "warnings.filterwarnings(\n",
    "    \"ignore\", message=\"indexing past lexsort depth may impact performance.\"\n",
    ")\n",
    "\n",
    "# %load_ext snakeviz"
   ]
  },
  {
   "cell_type": "markdown",
   "id": "29063227",
   "metadata": {},
   "source": [
    "# Params"
   ]
  },
  {
   "cell_type": "code",
   "execution_count": 2,
   "id": "c09ccba8",
   "metadata": {},
   "outputs": [
    {
     "data": {
      "text/html": [
       "<div>\n",
       "<style scoped>\n",
       "    .dataframe tbody tr th:only-of-type {\n",
       "        vertical-align: middle;\n",
       "    }\n",
       "\n",
       "    .dataframe tbody tr th {\n",
       "        vertical-align: top;\n",
       "    }\n",
       "\n",
       "    .dataframe thead th {\n",
       "        text-align: right;\n",
       "    }\n",
       "</style>\n",
       "<table border=\"1\" class=\"dataframe\">\n",
       "  <thead>\n",
       "    <tr style=\"text-align: right;\">\n",
       "      <th></th>\n",
       "      <th></th>\n",
       "      <th></th>\n",
       "      <th>value</th>\n",
       "    </tr>\n",
       "    <tr>\n",
       "      <th>category</th>\n",
       "      <th>subcategory</th>\n",
       "      <th>name</th>\n",
       "      <th></th>\n",
       "    </tr>\n",
       "  </thead>\n",
       "  <tbody>\n",
       "    <tr>\n",
       "      <th>events</th>\n",
       "      <th>delta_cases_per_100_000</th>\n",
       "      <th>2021-06-01</th>\n",
       "      <td>0.10</td>\n",
       "    </tr>\n",
       "    <tr>\n",
       "      <th rowspan=\"2\" valign=\"top\">rapid_test_demand</th>\n",
       "      <th rowspan=\"2\" valign=\"top\">low_incidence_factor</th>\n",
       "      <th>other_demand</th>\n",
       "      <td>0.25</td>\n",
       "    </tr>\n",
       "    <tr>\n",
       "      <th>worker_demand</th>\n",
       "      <td>0.25</td>\n",
       "    </tr>\n",
       "  </tbody>\n",
       "</table>\n",
       "</div>"
      ],
      "text/plain": [
       "                                                         value\n",
       "category          subcategory             name                \n",
       "events            delta_cases_per_100_000 2021-06-01      0.10\n",
       "rapid_test_demand low_incidence_factor    other_demand    0.25\n",
       "                                          worker_demand   0.25"
      ]
     },
     "execution_count": 2,
     "metadata": {},
     "output_type": "execute_result"
    }
   ],
   "source": [
    "params = load_params(\"baseline\")\n",
    "\n",
    "# set delta infectiousness\n",
    "delta_factor = 2.3  # 1.6 originally\n",
    "params.loc[(\"virus_strain\", \"delta\", \"factor\"), \"value\"] = 1.67 * delta_factor\n",
    "params.loc[\"infection_prob\"] = params.loc[[\"infection_prob\"]] * delta_factor / 1.6\n",
    "\n",
    "\n",
    "delta_params = [(\"events\", \"delta_cases_per_100_000\", \"2021-06-01\")]\n",
    "rapid_reduc_params = [\n",
    "    (\"rapid_test_demand\", \"low_incidence_factor\", \"other_demand\"),\n",
    "    (\"rapid_test_demand\", \"low_incidence_factor\", \"worker_demand\"),\n",
    "]\n",
    "\n",
    "free_params = delta_params + rapid_reduc_params\n",
    "\n",
    "# Set some free parameters-----------------------------------------------------------\n",
    "\n",
    "# params.loc[delta_params] = 0.1\n",
    "\n",
    "# -----------------------------------------------------------------------------------\n",
    "\n",
    "params.loc[free_params]"
   ]
  },
  {
   "cell_type": "markdown",
   "id": "f5a7798b",
   "metadata": {},
   "source": [
    "# Specify Grid"
   ]
  },
  {
   "cell_type": "code",
   "execution_count": 3,
   "id": "313fe531",
   "metadata": {},
   "outputs": [
    {
     "name": "stdout",
     "output_type": "stream",
     "text": [
      "[0.02 0.03 0.04 0.05 0.06 0.06 0.07 0.08 0.09 0.1 ]\n"
     ]
    }
   ],
   "source": [
    "# -----------------------------------------------------------------------------------\n",
    "dimensions = \"1d\"\n",
    "\n",
    "n_gridpoints = 10 if not DEBUG else 1\n",
    "loc1 = delta_params\n",
    "gridspec1 = (0.02, 0.1, n_gridpoints)\n",
    "print(np.linspace(*gridspec1).round(2))\n",
    "\n",
    "OUT_PATH = BLD / \"figures\" / \"calibration\" / f\"{prefix}_002_to_010\"\n",
    "OUT_PATH.mkdir(parents=True)\n",
    "\n",
    "loc2 = None\n",
    "gridspec2 = (\"low\", \"high\", n_gridpoints)\n",
    "\n",
    "n_seeds = 20 if not DEBUG else 1\n",
    "n_cores = 40 if not DEBUG else 1\n",
    "mask = None\n",
    "\n",
    "# -----------------------------------------------------------------------------------"
   ]
  },
  {
   "cell_type": "code",
   "execution_count": 4,
   "id": "06996dc0-51cd-4158-bb73-627b4f7ccf13",
   "metadata": {},
   "outputs": [],
   "source": [
    "initial_states_path = (\n",
    "    str(BLD / \"simulations\" / \"last_states\") + \"/verify_spring_baseline_{seed}.pkl\"\n",
    ")"
   ]
  },
  {
   "cell_type": "markdown",
   "id": "6c7dccf3-0a3b-427d-b196-adc5bd99ca73",
   "metadata": {},
   "source": [
    "# Build the Fitness Function"
   ]
  },
  {
   "cell_type": "code",
   "execution_count": 5,
   "id": "0defad4e-e7ba-4f61-805c-a11db05b5b9f",
   "metadata": {},
   "outputs": [],
   "source": [
    "pmsm = get_parallelizable_msm_criterion(\n",
    "    prefix=prefix,\n",
    "    fall_start_date=FALL_SIM_START,\n",
    "    fall_end_date=FALL_SIM_END,\n",
    "    spring_start_date=SPRING_SIM_START,\n",
    "    spring_end_date=SPRING_SIM_END,\n",
    "    mode=\"fall\",\n",
    "    debug=DEBUG,\n",
    ")"
   ]
  },
  {
   "cell_type": "markdown",
   "id": "9af4d486",
   "metadata": {},
   "source": [
    "# Run estimation"
   ]
  },
  {
   "cell_type": "code",
   "execution_count": null,
   "id": "8389bbb7",
   "metadata": {},
   "outputs": [
    {
     "name": "stdout",
     "output_type": "stream",
     "text": [
      "2021-09-02 12:33:20.174670\n"
     ]
    }
   ],
   "source": [
    "start_time = pd.Timestamp.now()\n",
    "print(start_time)\n",
    "\n",
    "if dimensions == \"2d\":\n",
    "    results, grid, best_index, fitness_plot = run_2d_gridsearch(\n",
    "        func=pmsm,\n",
    "        params=params,\n",
    "        loc1=loc1,\n",
    "        gridspec1=gridspec1,\n",
    "        loc2=loc2,\n",
    "        gridspec2=gridspec2,\n",
    "        n_seeds=n_seeds,\n",
    "        n_cores=n_cores,\n",
    "        mask=mask,\n",
    "        initial_states_path=initial_states_path,\n",
    "    )\n",
    "else:\n",
    "    results, grid, best_index, fitness_plot = run_1d_gridsearch(\n",
    "        func=pmsm,\n",
    "        params=params,\n",
    "        loc=loc1,\n",
    "        gridspec=gridspec1,\n",
    "        n_seeds=n_seeds,\n",
    "        n_cores=n_cores,\n",
    "        initial_states_path=initial_states_path,\n",
    "    )\n",
    "\n",
    "end_time = pd.Timestamp.now()"
   ]
  },
  {
   "cell_type": "code",
   "execution_count": null,
   "id": "cf4915b2-d65b-4a44-829d-2f53a94499d7",
   "metadata": {},
   "outputs": [],
   "source": [
    "print(end_time - start_time)"
   ]
  },
  {
   "cell_type": "code",
   "execution_count": null,
   "id": "2ba4eb38",
   "metadata": {},
   "outputs": [],
   "source": [
    "pd.to_pickle(results, OUT_PATH / \"results.pkl\")"
   ]
  },
  {
   "cell_type": "markdown",
   "id": "ebae7b19",
   "metadata": {},
   "source": [
    "# Plot Criterion Values"
   ]
  },
  {
   "cell_type": "code",
   "execution_count": null,
   "id": "24f0c330",
   "metadata": {},
   "outputs": [],
   "source": [
    "fitness_plot.savefig(OUT_PATH / \"x_to_criterion.pdf\")\n",
    "fitness_plot"
   ]
  },
  {
   "cell_type": "markdown",
   "id": "a5439a57",
   "metadata": {},
   "source": [
    "# Plot Delta Shares"
   ]
  },
  {
   "cell_type": "code",
   "execution_count": null,
   "id": "5e3ac2d3",
   "metadata": {},
   "outputs": [],
   "source": [
    "for g, res in zip(grid, results):\n",
    "    fig = plot_estimation_moment(res, \"aggregated_delta_share\")\n",
    "    fig.savefig(OUT_PATH / f\"delta_share_{g:.2f}.pdf\")"
   ]
  },
  {
   "cell_type": "code",
   "execution_count": null,
   "id": "b9759b07-e23a-4174-88d5-4f82ba2a5d56",
   "metadata": {},
   "outputs": [],
   "source": [
    "fig = plot_estimation_moment(results[best_index], \"aggregated_delta_share\")"
   ]
  },
  {
   "cell_type": "markdown",
   "id": "6ac0f255",
   "metadata": {},
   "source": [
    "# Plot Case Numbers"
   ]
  },
  {
   "cell_type": "code",
   "execution_count": null,
   "id": "3aa21f04",
   "metadata": {},
   "outputs": [],
   "source": [
    "ix = best_index\n",
    "fig = plot_estimation_moment(results[ix], \"aggregated_infections_not_log\")\n",
    "fig.savefig(OUT_PATH / f\"cases_best_{grid[ix]:.2f}.pdf\")\n",
    "fig"
   ]
  },
  {
   "cell_type": "code",
   "execution_count": null,
   "id": "5fa85c95",
   "metadata": {},
   "outputs": [],
   "source": [
    "fig = plot_estimation_moment(results[ix], \"infections_by_age_group\")\n",
    "fig.savefig(OUT_PATH / f\"cases_best_{grid[ix]:.2f}_by_age_gorup.pdf\")\n",
    "fig"
   ]
  },
  {
   "cell_type": "code",
   "execution_count": null,
   "id": "074de09c",
   "metadata": {},
   "outputs": [],
   "source": []
  },
  {
   "cell_type": "code",
   "execution_count": null,
   "id": "e9683f4b",
   "metadata": {},
   "outputs": [],
   "source": []
  },
  {
   "cell_type": "code",
   "execution_count": null,
   "id": "314748ea",
   "metadata": {},
   "outputs": [],
   "source": []
  }
 ],
 "metadata": {
  "kernelspec": {
   "display_name": "Python 3 (ipykernel)",
   "language": "python",
   "name": "python3"
  },
  "language_info": {
   "codemirror_mode": {
    "name": "ipython",
    "version": 3
   },
   "file_extension": ".py",
   "mimetype": "text/x-python",
   "name": "python",
   "nbconvert_exporter": "python",
   "pygments_lexer": "ipython3",
   "version": "3.8.10"
  }
 },
 "nbformat": 4,
 "nbformat_minor": 5
}
