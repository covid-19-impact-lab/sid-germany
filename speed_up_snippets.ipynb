{
 "cells": [
  {
   "cell_type": "code",
   "execution_count": 1,
   "id": "formal-wisdom",
   "metadata": {},
   "outputs": [],
   "source": [
    "%load_ext line_profiler\n",
    "%load_ext snakeviz"
   ]
  },
  {
   "cell_type": "code",
   "execution_count": 2,
   "id": "paperback-passing",
   "metadata": {},
   "outputs": [],
   "source": [
    "from pathlib import Path\n",
    "\n",
    "import matplotlib.pyplot as plt\n",
    "import numba as nb\n",
    "import numpy as np\n",
    "import pandas as pd\n",
    "import seaborn as sns\n",
    "from src.config import BLD, SRC\n",
    "from src.create_initial_states.task_build_full_params import (\n",
    "    _convert_index_to_int_where_possible,\n",
    ")\n",
    "from src.simulation.plotting import plot_incidences, style_plot"
   ]
  },
  {
   "cell_type": "code",
   "execution_count": 38,
   "id": "instrumental-orientation",
   "metadata": {},
   "outputs": [],
   "source": [
    "states = pd.read_parquet(BLD / \"data\" / \"initial_states.parquet\")\n",
    "states[\"date\"] = pd.Timestamp(\"2021-03-01\")\n",
    "states[\"infectious\"] = np.random.choice([True, False], size=len(states), p=[0.99, 0.01])\n",
    "states[\"symptomatic\"] = np.random.choice(\n",
    "    [True, False], size=len(states), p=[0.99, 0.01]\n",
    ")\n",
    "states[\"cd_infectious_true\"] = np.random.choice(\n",
    "    [-104, 0, -1, 3], size=len(states), p=[0.97, 0.01, 0.01, 0.01]\n",
    ")\n",
    "states[\"pending_test\"] = np.random.choice(\n",
    "    [True, False], size=len(states), p=[0.03, 0.97]\n",
    ")\n",
    "states[\"knows_immune\"] = np.random.choice(\n",
    "    [True, False], size=len(states), p=[0.07, 0.93]\n",
    ")\n",
    "states[\"currently_infected\"] = states.eval(\"(infectious | symptomatic | (cd_infectious_true >= 0))\")\n",
    "\n",
    "contacts = pd.Series(1, index=states.index)"
   ]
  },
  {
   "cell_type": "markdown",
   "id": "decimal-series",
   "metadata": {},
   "source": [
    "# Reduce Contacts on Condition\n",
    "\n",
    "**Klara**\n",
    "- 35.5% go to reduce_recurrent_model\n",
    "- in reduce_recurrent_model it looks as if 85% are on the last line of the docstring. That's strange.\n",
    "\n",
    "**Tobi**\n",
    "- 40% of time is caused by evaluating the condition. Why dont we precompute the conditions and pass the column as the condition.\n",
    "- Replace ``np.random.choice([True, False], ...)`` with ``boolean_choices`` which halves runtime."
   ]
  },
  {
   "cell_type": "code",
   "execution_count": 39,
   "id": "psychological-bundle",
   "metadata": {},
   "outputs": [],
   "source": [
    "def reduce_contacts_on_condition(\n",
    "    contacts, states, multiplier, condition, seed, is_recurrent\n",
    "):\n",
    "    \"\"\"Reduce contacts for share of population for which condition is fulfilled.\n",
    "\n",
    "    The subset of contacts for which contacts are reduced is specified by the condition\n",
    "    and whoever has a positive number of contacts. Then, a share of individuals in the\n",
    "    subset is sampled and the contacts are set to 0.\n",
    "\n",
    "    Args:\n",
    "        contacts (pandas.Series): The series with contacts.\n",
    "        states (pandas.DataFrame): The states of one day passed by sid.\n",
    "        multiplier (float): The share of people who maintain their contacts\n",
    "            despite condition.\n",
    "        condition (str): Condition which defines the subset of individuals who\n",
    "            potentially reduce their contacts.\n",
    "        seed (int)\n",
    "\n",
    "    \"\"\"\n",
    "    np.random.seed(seed)\n",
    "    if is_recurrent:\n",
    "        reduced = reduce_recurrent_model(states, contacts, seed, multiplier)\n",
    "    else:\n",
    "        reduced = multiplier * contacts\n",
    "    is_condition_true = states.eval(condition)\n",
    "    reduced = reduced.where(is_condition_true, contacts)\n",
    "    return reduced\n",
    "\n",
    "\n",
    "def reduce_recurrent_model(states, contacts, seed, multiplier):\n",
    "    \"\"\"Reduce the number of recurrent contacts taking place by a multiplier.\n",
    "\n",
    "    For recurrent contacts only whether the contacts Series is > 0 plays a role.\n",
    "    Therefore, simply multiplying the number of contacts with it would not have\n",
    "    an effect on the number of contacts taking place. Instead we make a random share of\n",
    "    individuals scheduled to participate not participate.\n",
    "\n",
    "    This function returns a Series of 0s and 1s.\n",
    "\n",
    "    Args:\n",
    "        multiplier (float or pd.Series): Must be smaller or equal to one. If a\n",
    "            Series is supplied the index must be dates.\n",
    "\n",
    "    \"\"\"\n",
    "    np.random.seed(seed)\n",
    "    if isinstance(multiplier, pd.Series):\n",
    "        date = get_date(states)\n",
    "        multiplier = multiplier[date]\n",
    "\n",
    "    contacts = contacts.to_numpy()\n",
    "    resampled_contacts = np.random.choice(\n",
    "        [1, 0], size=len(states), p=[multiplier, 1 - multiplier]\n",
    "    )\n",
    "    reduced = np.where(contacts > 0, resampled_contacts, contacts)\n",
    "    return pd.Series(reduced, index=states.index)"
   ]
  },
  {
   "cell_type": "code",
   "execution_count": 40,
   "id": "objective-daniel",
   "metadata": {},
   "outputs": [
    {
     "name": "stdout",
     "output_type": "stream",
     "text": [
      "29.2 ms ± 1.81 ms per loop (mean ± std. dev. of 7 runs, 10 loops each)\n"
     ]
    }
   ],
   "source": [
    "%%timeit\n",
    "\n",
    "reduce_contacts_on_condition(\n",
    "    contacts,\n",
    "    states,\n",
    "    multiplier=0.5,\n",
    "    condition=\"occupation == 'working'\",\n",
    "    seed=99,\n",
    "    is_recurrent=False,\n",
    ")"
   ]
  },
  {
   "cell_type": "code",
   "execution_count": 41,
   "id": "patient-crossing",
   "metadata": {},
   "outputs": [],
   "source": [
    "%lprun -f reduce_contacts_on_condition reduce_contacts_on_condition(contacts,states,multiplier=0.5,condition=\"occupation == 'working'\",seed=99,is_recurrent=False)"
   ]
  },
  {
   "cell_type": "code",
   "execution_count": 42,
   "id": "cultural-burke",
   "metadata": {},
   "outputs": [
    {
     "name": "stdout",
     "output_type": "stream",
     "text": [
      "50.5 ms ± 1.18 ms per loop (mean ± std. dev. of 7 runs, 10 loops each)\n"
     ]
    }
   ],
   "source": [
    "%%timeit\n",
    "\n",
    "reduce_contacts_on_condition(\n",
    "    contacts,\n",
    "    states,\n",
    "    multiplier=0.5,\n",
    "    condition=\"occupation == 'working'\",\n",
    "    seed=99,\n",
    "    is_recurrent=True,\n",
    ")"
   ]
  },
  {
   "cell_type": "code",
   "execution_count": 8,
   "id": "attended-cricket",
   "metadata": {},
   "outputs": [],
   "source": [
    "%lprun -f reduce_contacts_on_condition reduce_contacts_on_condition(contacts,states,multiplier=0.5,condition=\"occupation == 'working'\",seed=99,is_recurrent=True)"
   ]
  },
  {
   "cell_type": "code",
   "execution_count": 9,
   "id": "capital-forest",
   "metadata": {},
   "outputs": [
    {
     "name": "stdout",
     "output_type": "stream",
     "text": [
      "23.6 ms ± 156 µs per loop (mean ± std. dev. of 7 runs, 10 loops each)\n"
     ]
    }
   ],
   "source": [
    "%%timeit\n",
    "\n",
    "reduce_recurrent_model(states, contacts, 323, 0.5)"
   ]
  },
  {
   "cell_type": "code",
   "execution_count": 10,
   "id": "boring-florence",
   "metadata": {},
   "outputs": [],
   "source": [
    "%lprun -f reduce_recurrent_model reduce_recurrent_model(states, contacts, 323, 0.5)"
   ]
  },
  {
   "cell_type": "code",
   "execution_count": 11,
   "id": "cubic-pendant",
   "metadata": {},
   "outputs": [],
   "source": [
    "def boolean_choices(truth_probabilities):\n",
    "    \"\"\"Sample boolean value with probabilities given for ``True``.\n",
    "\n",
    "    Args:\n",
    "        truth_probabilities (float): Must be between 0 and 1.\n",
    "\n",
    "    Returns:\n",
    "        bool: Boolean array.\n",
    "\n",
    "    Example:\n",
    "        >>> boolean_choice(np.array([1, 0]))\n",
    "        array([ True, False])\n",
    "\n",
    "    \"\"\"\n",
    "    u = np.random.uniform(0, 1, size=len(truth_probabilities))\n",
    "    return u <= truth_probabilities"
   ]
  },
  {
   "cell_type": "code",
   "execution_count": 12,
   "id": "prepared-focus",
   "metadata": {},
   "outputs": [
    {
     "name": "stdout",
     "output_type": "stream",
     "text": [
      "21.1 ms ± 188 µs per loop (mean ± std. dev. of 7 runs, 10 loops each)\n"
     ]
    }
   ],
   "source": [
    "%%timeit\n",
    "\n",
    "np.random.choice([True, False], size=len(states), p=[0.5, 1 - 0.5])"
   ]
  },
  {
   "cell_type": "code",
   "execution_count": 13,
   "id": "respiratory-essex",
   "metadata": {},
   "outputs": [
    {
     "name": "stdout",
     "output_type": "stream",
     "text": [
      "10.2 ms ± 36.2 µs per loop (mean ± std. dev. of 7 runs, 100 loops each)\n"
     ]
    }
   ],
   "source": [
    "%%timeit\n",
    "\n",
    "boolean_choices(np.full(len(states), 0.5))"
   ]
  },
  {
   "cell_type": "code",
   "execution_count": 18,
   "id": "behavioral-investigator",
   "metadata": {},
   "outputs": [],
   "source": [
    "from numba import njit\n",
    "\n",
    "@njit\n",
    "def boolean_choices2(truth_probability, size=None):\n",
    "    u = np.random.uniform(0, 1, size=size)\n",
    "    return u <= truth_probability\n",
    "    \n",
    "        "
   ]
  },
  {
   "cell_type": "code",
   "execution_count": null,
   "id": "occasional-addition",
   "metadata": {},
   "outputs": [],
   "source": []
  },
  {
   "cell_type": "code",
   "execution_count": 19,
   "id": "legal-gross",
   "metadata": {},
   "outputs": [
    {
     "name": "stdout",
     "output_type": "stream",
     "text": [
      "6.61 ms ± 40.8 µs per loop (mean ± std. dev. of 7 runs, 100 loops each)\n"
     ]
    }
   ],
   "source": [
    "%%timeit \n",
    "\n",
    "\n",
    "boolean_choices2(0.5, len(states))"
   ]
  },
  {
   "cell_type": "markdown",
   "id": "surprising-symbol",
   "metadata": {},
   "source": [
    "# Find Educ Workers With Zero Students\n",
    "\n",
    "**Klara**\n",
    "- irgendwie sind die falschen Zeilen bei \"find_educ_workers_with_zero_students\" in der Textdatei gelandet, \n",
    "  die gar nicht zu der Funktion gehören \n",
    "  \n",
    "- in _find_size_zero_classes gehen 80% auf die class_sizes = ...`.groupby`Zeile"
   ]
  },
  {
   "cell_type": "code",
   "execution_count": 20,
   "id": "sealed-context",
   "metadata": {},
   "outputs": [],
   "source": [
    "def _find_educ_workers_with_zero_students(contacts, states, group_id_column):\n",
    "    \"\"\"Return educ_workers whose classes / groups don't have any children in them.\n",
    "\n",
    "    Returns:\n",
    "        has_no_class (pandas.Series): boolean Series with the\n",
    "            same index as states. True for educ_workers whose classes / groups\n",
    "            don't have any children in them.\n",
    "\n",
    "    \"\"\"\n",
    "    size_0_classes = _find_size_zero_classes(contacts, states, group_id_column)\n",
    "    has_no_class = states[\"educ_worker\"] & states[group_id_column].isin(size_0_classes)\n",
    "    return has_no_class\n",
    "\n",
    "\n",
    "def _find_size_zero_classes(contacts, states, col):\n",
    "    students_group_ids = states[col][~states[\"educ_worker\"]]\n",
    "    students_contacts = contacts[~states[\"educ_worker\"]]\n",
    "    # the .drop(-1) is needed because we use -1 instead of NaN to identify\n",
    "    # individuals not participating in a recurrent contact model\n",
    "    class_sizes = students_contacts.groupby(students_group_ids).sum().drop(-1)\n",
    "    size_zero_classes = class_sizes[class_sizes == 0].index\n",
    "    return size_zero_classes"
   ]
  },
  {
   "cell_type": "code",
   "execution_count": 21,
   "id": "violent-acrylic",
   "metadata": {},
   "outputs": [],
   "source": [
    "school_contacts = states[\"occupation\"].isin([\"school\", \"school_teacher\"])"
   ]
  },
  {
   "cell_type": "code",
   "execution_count": 22,
   "id": "endangered-softball",
   "metadata": {},
   "outputs": [
    {
     "name": "stdout",
     "output_type": "stream",
     "text": [
      "44.4 ms ± 774 µs per loop (mean ± std. dev. of 7 runs, 10 loops each)\n"
     ]
    }
   ],
   "source": [
    "%%timeit\n",
    "\n",
    "_find_educ_workers_with_zero_students(\n",
    "    contacts=school_contacts, states=states, group_id_column=\"school_group_id_1\"\n",
    ")"
   ]
  },
  {
   "cell_type": "code",
   "execution_count": 23,
   "id": "romance-night",
   "metadata": {},
   "outputs": [],
   "source": [
    "%lprun -f _find_educ_workers_with_zero_students _find_educ_workers_with_zero_students(contacts=school_contacts, states=states, group_id_column=\"school_group_id_1\")"
   ]
  },
  {
   "cell_type": "code",
   "execution_count": 24,
   "id": "inner-jones",
   "metadata": {},
   "outputs": [
    {
     "name": "stdout",
     "output_type": "stream",
     "text": [
      "44.3 ms ± 1.73 ms per loop (mean ± std. dev. of 7 runs, 10 loops each)\n"
     ]
    }
   ],
   "source": [
    "%%timeit\n",
    "\n",
    "_find_size_zero_classes(\n",
    "    contacts=school_contacts, states=states, col=\"school_group_id_2\"\n",
    ")"
   ]
  },
  {
   "cell_type": "code",
   "execution_count": 25,
   "id": "dedicated-ultimate",
   "metadata": {},
   "outputs": [],
   "source": [
    "%lprun -f _find_size_zero_classes _find_size_zero_classes(contacts=school_contacts, states=states, col=\"school_group_id_2\")"
   ]
  },
  {
   "cell_type": "markdown",
   "id": "corresponding-adobe",
   "metadata": {},
   "source": [
    "# Reduce Work Model\n",
    "\n",
    "**Klara**\n",
    "- 1/3 went into asserting that the Länder in the states and thresholds fit together \n",
    "\n",
    "    $\\Rightarrow$ I moved that to check_initial_states and only check that there are no NaN after `.map`\n",
    "    and replaced it with a check that there are no NaN after the .map operation. That takes 8% of the time\n",
    "    and could be removed.\n",
    "    \n",
    "    \n",
    "$\\Rightarrow$ `.where` statements take ~40% of the time. the `.map` statement 30%."
   ]
  },
  {
   "cell_type": "code",
   "execution_count": 26,
   "id": "turkish-interest",
   "metadata": {},
   "outputs": [],
   "source": [
    "from sid.time import get_date\n",
    "\n",
    "\n",
    "def reduce_work_model(states, contacts, seed, multiplier, is_recurrent):  # noqa: U100\n",
    "    \"\"\"Reduce contacts for the working population.\n",
    "\n",
    "    Args:\n",
    "        multiplier (float, pandas.Series, pandas.DataFrame):\n",
    "            share of workers that have work contacts.\n",
    "            If it is a Series or DataFrame, the index must be dates.\n",
    "            If it is a DataFrame the columns must be the values of\n",
    "            the \"state\" column in the states.\n",
    "        is_recurrent (bool): True if the contact model is recurernt\n",
    "\n",
    "    \"\"\"\n",
    "    if isinstance(multiplier, (pd.Series, pd.DataFrame)):\n",
    "        date = get_date(states)\n",
    "        multiplier = multiplier.loc[date]\n",
    "\n",
    "    msg = f\"Work multiplier not in [0, 1] on {get_date(states)}\"\n",
    "    if isinstance(multiplier, (float, int)):\n",
    "        assert 0 <= multiplier <= 1, msg\n",
    "    else:\n",
    "        assert (multiplier >= 0).all(), msg\n",
    "        assert (multiplier <= 1).all(), msg\n",
    "\n",
    "    threshold = 1 - multiplier\n",
    "    if isinstance(threshold, pd.Series):\n",
    "        threshold = states[\"state\"].map(threshold.get)\n",
    "        # this assert could be skipped because we check in\n",
    "        # task_check_initial_states that the federal state names overlap.\n",
    "        assert threshold.notnull().all()\n",
    "\n",
    "    above_threshold = states[\"work_contact_priority\"] > threshold\n",
    "\n",
    "    if not is_recurrent:\n",
    "        reduced_contacts = contacts.where(above_threshold, 0)\n",
    "    if is_recurrent:\n",
    "        reduced_contacts = contacts.where(above_threshold, False)\n",
    "    return reduced_contacts"
   ]
  },
  {
   "cell_type": "code",
   "execution_count": 27,
   "id": "touched-italy",
   "metadata": {},
   "outputs": [],
   "source": [
    "is_true = boolean_choices(np.full(len(contacts), 0.5))"
   ]
  },
  {
   "cell_type": "code",
   "execution_count": 28,
   "id": "legal-zimbabwe",
   "metadata": {},
   "outputs": [
    {
     "name": "stdout",
     "output_type": "stream",
     "text": [
      "5.67 ms ± 74.9 µs per loop (mean ± std. dev. of 7 runs, 100 loops each)\n"
     ]
    }
   ],
   "source": [
    "%timeit contacts.where(is_true, 0)"
   ]
  },
  {
   "cell_type": "code",
   "execution_count": 29,
   "id": "configured-gazette",
   "metadata": {},
   "outputs": [
    {
     "name": "stdout",
     "output_type": "stream",
     "text": [
      "6.83 ms ± 97.1 µs per loop (mean ± std. dev. of 7 runs, 100 loops each)\n"
     ]
    }
   ],
   "source": [
    "%timeit contacts.loc[is_true] = 5"
   ]
  },
  {
   "cell_type": "code",
   "execution_count": 30,
   "id": "plain-bloom",
   "metadata": {},
   "outputs": [
    {
     "name": "stdout",
     "output_type": "stream",
     "text": [
      "34.7 ms ± 88.2 µs per loop (mean ± std. dev. of 7 runs, 10 loops each)\n"
     ]
    }
   ],
   "source": [
    "%%timeit\n",
    "\n",
    "reduce_work_model(\n",
    "    states=states, contacts=contacts, seed=111, multiplier=0.4, is_recurrent=True\n",
    ")"
   ]
  },
  {
   "cell_type": "code",
   "execution_count": 31,
   "id": "conservative-catholic",
   "metadata": {},
   "outputs": [],
   "source": [
    "%lprun -f reduce_work_model reduce_work_model(states=states, contacts=contacts, seed=111, multiplier=0.4, is_recurrent=True)"
   ]
  },
  {
   "cell_type": "markdown",
   "id": "exceptional-statement",
   "metadata": {},
   "source": [
    "# Demand Test\n",
    "\n",
    "- 70% of time goes to `_scale_demand_up_or_down`\n",
    "\n",
    "- of `_scale_demand_up_or_down` >90% go to `_decrease_test_demand`\n",
    "\n",
    "- of `_decrease_test_demand`: 93.7% go to `states[demanded].query(f\"age_group_rki == '{group}'\").index`\n",
    "\n",
    "- of `_increase_test_demand`: >90% go to `infected_untested = states.index[states.eval(selection_string) & ~demanded]`"
   ]
  },
  {
   "cell_type": "code",
   "execution_count": 43,
   "id": "wrong-frontier",
   "metadata": {},
   "outputs": [],
   "source": [
    "import warnings\n",
    "from sid.time import get_date\n",
    "\n",
    "\n",
    "def _decrease_test_demand(demanded, states, n_to_remove, group):\n",
    "    \"\"\"Decrease the number of tests demanded in an age group by a certain number.\n",
    "\n",
    "    This is called when the endogenously demanded tests (symptomatics + educ workers)\n",
    "    already exceed the designated number of positive tests in an age group.\n",
    "\n",
    "    \"\"\"\n",
    "    demanded = demanded.copy(deep=True)\n",
    "    \n",
    "    is_candidate = demanded.to_numpy() & (states[\"age_group_rki\"] == group).to_numpy()\n",
    "\n",
    "    demanding_test_in_age_group = demanded.index.to_numpy()[is_candidate]\n",
    "    \n",
    "    drawn = np.random.choice(\n",
    "        a=demanding_test_in_age_group, size=n_to_remove, replace=False\n",
    "    )\n",
    "    demanded.loc[drawn] = False\n",
    "    return demanded\n",
    "\n",
    "\n",
    "def _increase_test_demand(demanded, states, n_undemanded_tests, group):\n",
    "    \"\"\"Randomly increase the number of tests demanded in an age group.\n",
    "    This is the case where we have additional positive tests to distribute.\n",
    "\n",
    "    \"\"\"\n",
    "    demanded = demanded.copy(deep=True)\n",
    "\n",
    "    right_age_group = states[\"age_group_rki\"] == group\n",
    "    untested = ~states[\"pending_test\"] & ~states[\"knows_immune\"]\n",
    "    condition = right_age_group & untested & states[\"currently_infected\"]    \n",
    "    infected_untested = states.index[condition & ~demanded]\n",
    "\n",
    "    if len(infected_untested) >= n_undemanded_tests:\n",
    "        drawn = np.random.choice(infected_untested, n_undemanded_tests, replace=False)\n",
    "    else:\n",
    "        date = get_date(states)\n",
    "        warnings.warn(\n",
    "            f\"\\n\\nThe implied share_known_cases for age group {group} is >1 \"\n",
    "            f\"on date {date.date()} ({date.day_name()}).\\n\\n\"\n",
    "        )\n",
    "        drawn = infected_untested\n",
    "    demanded.loc[drawn] = True\n",
    "    return demanded"
   ]
  },
  {
   "cell_type": "code",
   "execution_count": 33,
   "id": "homeless-sherman",
   "metadata": {},
   "outputs": [],
   "source": [
    "demanded = pd.Series(True, index=states.index)"
   ]
  },
  {
   "cell_type": "code",
   "execution_count": 34,
   "id": "disabled-index",
   "metadata": {},
   "outputs": [
    {
     "name": "stdout",
     "output_type": "stream",
     "text": [
      "3.93 ms ± 70.2 µs per loop (mean ± std. dev. of 7 runs, 100 loops each)\n"
     ]
    }
   ],
   "source": [
    "%%timeit\n",
    "\n",
    "_decrease_test_demand(demanded, states, n_to_remove=30, group=\"80-100\")"
   ]
  },
  {
   "cell_type": "code",
   "execution_count": 35,
   "id": "aggregate-baptist",
   "metadata": {},
   "outputs": [],
   "source": [
    "%lprun -f _decrease_test_demand _decrease_test_demand(demanded, states, n_to_remove=30, group=\"80-100\")"
   ]
  },
  {
   "cell_type": "code",
   "execution_count": 44,
   "id": "improved-humanity",
   "metadata": {},
   "outputs": [
    {
     "name": "stderr",
     "output_type": "stream",
     "text": [
      "<ipython-input-43-3ae7090d5886>:41: UserWarning: \n",
      "\n",
      "The implied share_known_cases for age group 80-100 is >1 on date 2021-03-01 (Monday).\n",
      "\n",
      "\n",
      "  warnings.warn(\n"
     ]
    },
    {
     "name": "stdout",
     "output_type": "stream",
     "text": [
      "3.61 ms ± 90.1 µs per loop (mean ± std. dev. of 7 runs, 100 loops each)\n"
     ]
    }
   ],
   "source": [
    "%%timeit\n",
    "\n",
    "_increase_test_demand(demanded, states, n_undemanded_tests=20, group=\"80-100\")"
   ]
  },
  {
   "cell_type": "code",
   "execution_count": 45,
   "id": "optional-fighter",
   "metadata": {},
   "outputs": [
    {
     "name": "stderr",
     "output_type": "stream",
     "text": [
      "<ipython-input-43-3ae7090d5886>:41: UserWarning: \n",
      "\n",
      "The implied share_known_cases for age group 80-100 is >1 on date 2021-03-01 (Monday).\n",
      "\n",
      "\n",
      "  warnings.warn(\n"
     ]
    }
   ],
   "source": [
    "%lprun -f _increase_test_demand _increase_test_demand(demanded, states, n_undemanded_tests=20, group=\"80-100\")"
   ]
  },
  {
   "cell_type": "code",
   "execution_count": null,
   "id": "amazing-southeast",
   "metadata": {},
   "outputs": [],
   "source": []
  },
  {
   "cell_type": "code",
   "execution_count": null,
   "id": "liberal-sequence",
   "metadata": {},
   "outputs": [],
   "source": [
    "\n",
    "def convert_boolean_variable_to_target_frequency(df, col_name, groupby_var, target_frequency):\n",
    "    df = df[[col_name, groupby_var]].copy()\n",
    "    start_frequency = df.groupby(groupby_var)[col_name].mean()\n",
    "    diff = target_frequency - start_frequency\n",
    "\n",
    "    to_replace = (np.sign(diff) < 0).to_dict()\n",
    "    candidate_value = df[groupby_var].map(to_replace.get)\n",
    "    is_switching_candidate = (df[col_name] == candidate_value)\n",
    "    share_candidates = is_switching_candidate.groupby(df[groupby_var]).mean()\n",
    "    to_replace = (np.abs(diff) / share_candidates).to_dict()\n",
    "    switching_prob = df[groupby_var].map(to_replace.get)\n",
    "\n",
    "    switches = boolean_choices(switching_prob) & is_switching_candidate.to_numpy()\n",
    "\n",
    "    out = df[col_name].where(~switches, ~df[col_name])\n",
    "\n",
    "    return out\n",
    "\n",
    "\n"
   ]
  },
  {
   "cell_type": "code",
   "execution_count": null,
   "id": "cheap-nudist",
   "metadata": {},
   "outputs": [],
   "source": [
    "%%timeit \n",
    "convert_boolean_variable_to_target_frequency(states, \"educ_worker\", \"age_group_rki\", sr)"
   ]
  },
  {
   "cell_type": "code",
   "execution_count": null,
   "id": "pharmaceutical-israeli",
   "metadata": {},
   "outputs": [],
   "source": [
    "states[\"test\"] = convert_boolean_variable_to_target_frequency(states, \"educ_worker\", \"age_group_rki\", sr)\n",
    "states.groupby(\"age_group_rki\")[\"test\"].mean().round(2)\n"
   ]
  },
  {
   "cell_type": "code",
   "execution_count": null,
   "id": "wrapped-fault",
   "metadata": {},
   "outputs": [],
   "source": [
    "states[\"educ_worker\"].groupby"
   ]
  },
  {
   "cell_type": "code",
   "execution_count": null,
   "id": "stylish-links",
   "metadata": {},
   "outputs": [],
   "source": [
    "states[\"educ_worker\"].groupby"
   ]
  },
  {
   "cell_type": "code",
   "execution_count": null,
   "id": "limiting-research",
   "metadata": {},
   "outputs": [],
   "source": [
    "pd.Grouper(states[\"age_group_rki\"])"
   ]
  },
  {
   "cell_type": "code",
   "execution_count": null,
   "id": "caring-portugal",
   "metadata": {},
   "outputs": [],
   "source": []
  }
 ],
 "metadata": {
  "kernelspec": {
   "display_name": "Python 3",
   "language": "python",
   "name": "python3"
  },
  "language_info": {
   "codemirror_mode": {
    "name": "ipython",
    "version": 3
   },
   "file_extension": ".py",
   "mimetype": "text/x-python",
   "name": "python",
   "nbconvert_exporter": "python",
   "pygments_lexer": "ipython3",
   "version": "3.8.8"
  }
 },
 "nbformat": 4,
 "nbformat_minor": 5
}
