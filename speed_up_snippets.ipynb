{
 "cells": [
  {
   "cell_type": "code",
   "execution_count": 1,
   "id": "formal-wisdom",
   "metadata": {},
   "outputs": [],
   "source": [
    "%load_ext line_profiler"
   ]
  },
  {
   "cell_type": "code",
   "execution_count": 2,
   "id": "paperback-passing",
   "metadata": {},
   "outputs": [],
   "source": [
    "from pathlib import Path\n",
    "\n",
    "import matplotlib.pyplot as plt\n",
    "import numba as nb\n",
    "import numpy as np\n",
    "import pandas as pd\n",
    "import seaborn as sns\n",
    "from src.config import BLD, SRC\n",
    "from src.create_initial_states.task_build_full_params import (\n",
    "    _convert_index_to_int_where_possible,\n",
    ")\n",
    "from src.simulation.plotting import plot_incidences, style_plot"
   ]
  },
  {
   "cell_type": "code",
   "execution_count": 3,
   "id": "instrumental-orientation",
   "metadata": {},
   "outputs": [],
   "source": [
    "states = pd.read_parquet(BLD / \"data\" / \"initial_states.parquet\")\n",
    "states[\"date\"] = pd.Timestamp(\"2021-03-01\")\n",
    "states[\"infectious\"] = np.random.choice([True, False], size=len(states), p=[0.99, 0.01])\n",
    "states[\"symptomatic\"] = np.random.choice(\n",
    "    [True, False], size=len(states), p=[0.99, 0.01]\n",
    ")\n",
    "states[\"cd_infectious_true\"] = np.random.choice(\n",
    "    [-104, 0, -1, 3], size=len(states), p=[0.97, 0.01, 0.01, 0.01]\n",
    ")\n",
    "states[\"pending_test\"] = np.random.choice(\n",
    "    [True, False], size=len(states), p=[0.03, 0.97]\n",
    ")\n",
    "states[\"knows_immune\"] = np.random.choice(\n",
    "    [True, False], size=len(states), p=[0.07, 0.93]\n",
    ")\n",
    "\n",
    "contacts = pd.Series(1, index=states.index)"
   ]
  },
  {
   "cell_type": "markdown",
   "id": "decimal-series",
   "metadata": {},
   "source": [
    "# Reduce Contacts on Condition\n",
    "\n",
    "**Klara**\n",
    "- 35.5% go to reduce_recurrent_model\n",
    "- in reduce_recurrent_model it looks as if 85% are on the last line of the docstring. That's strange.\n",
    "\n",
    "**Tobi**\n",
    "- 40% of time is caused by evaluating the condition. Why dont we precompute the conditions and pass the column as the condition.\n",
    "- Replace ``np.random.choice([True, False], ...)`` with ``boolean_choices`` which halves runtime."
   ]
  },
  {
   "cell_type": "code",
   "execution_count": 4,
   "id": "psychological-bundle",
   "metadata": {},
   "outputs": [],
   "source": [
    "def reduce_contacts_on_condition(\n",
    "    contacts, states, multiplier, condition, seed, is_recurrent\n",
    "):\n",
    "    \"\"\"Reduce contacts for share of population for which condition is fulfilled.\n",
    "\n",
    "    The subset of contacts for which contacts are reduced is specified by the condition\n",
    "    and whoever has a positive number of contacts. Then, a share of individuals in the\n",
    "    subset is sampled and the contacts are set to 0.\n",
    "\n",
    "    Args:\n",
    "        contacts (pandas.Series): The series with contacts.\n",
    "        states (pandas.DataFrame): The states of one day passed by sid.\n",
    "        multiplier (float): The share of people who maintain their contacts\n",
    "            despite condition.\n",
    "        condition (str): Condition which defines the subset of individuals who\n",
    "            potentially reduce their contacts.\n",
    "        seed (int)\n",
    "\n",
    "    \"\"\"\n",
    "    np.random.seed(seed)\n",
    "    if is_recurrent:\n",
    "        reduced = reduce_recurrent_model(states, contacts, seed, multiplier)\n",
    "    else:\n",
    "        reduced = multiplier * contacts\n",
    "    is_condition_true = states.eval(condition)\n",
    "    reduced = reduced.where(is_condition_true, contacts)\n",
    "    return reduced\n",
    "\n",
    "\n",
    "def reduce_recurrent_model(states, contacts, seed, multiplier):\n",
    "    \"\"\"Reduce the number of recurrent contacts taking place by a multiplier.\n",
    "\n",
    "    For recurrent contacts only whether the contacts Series is > 0 plays a role.\n",
    "    Therefore, simply multiplying the number of contacts with it would not have\n",
    "    an effect on the number of contacts taking place. Instead we make a random share of\n",
    "    individuals scheduled to participate not participate.\n",
    "\n",
    "    This function returns a Series of 0s and 1s.\n",
    "\n",
    "    Args:\n",
    "        multiplier (float or pd.Series): Must be smaller or equal to one. If a\n",
    "            Series is supplied the index must be dates.\n",
    "\n",
    "    \"\"\"\n",
    "    np.random.seed(seed)\n",
    "    if isinstance(multiplier, pd.Series):\n",
    "        date = get_date(states)\n",
    "        multiplier = multiplier[date]\n",
    "\n",
    "    contacts = contacts.to_numpy()\n",
    "    resampled_contacts = np.random.choice(\n",
    "        [1, 0], size=len(states), p=[multiplier, 1 - multiplier]\n",
    "    )\n",
    "    reduced = np.where(contacts > 0, resampled_contacts, contacts)\n",
    "    return pd.Series(reduced, index=states.index)"
   ]
  },
  {
   "cell_type": "code",
   "execution_count": 5,
   "id": "objective-daniel",
   "metadata": {},
   "outputs": [
    {
     "name": "stdout",
     "output_type": "stream",
     "text": [
      "116 ms ± 9.15 ms per loop (mean ± std. dev. of 7 runs, 10 loops each)\n"
     ]
    }
   ],
   "source": [
    "%%timeit\n",
    "\n",
    "reduce_contacts_on_condition(\n",
    "    contacts,\n",
    "    states,\n",
    "    multiplier=0.5,\n",
    "    condition=\"occupation == 'working'\",\n",
    "    seed=99,\n",
    "    is_recurrent=False,\n",
    ")"
   ]
  },
  {
   "cell_type": "code",
   "execution_count": 6,
   "id": "patient-crossing",
   "metadata": {},
   "outputs": [
    {
     "data": {
      "text/plain": [
       "Timer unit: 1e-07 s\n",
       "\n",
       "Total time: 0.213245 s\n",
       "File: <ipython-input-4-19533d051687>\n",
       "Function: reduce_contacts_on_condition at line 1\n",
       "\n",
       "Line #      Hits         Time  Per Hit   % Time  Line Contents\n",
       "==============================================================\n",
       "     1                                           def reduce_contacts_on_condition(\n",
       "     2                                               contacts, states, multiplier, condition, seed, is_recurrent\n",
       "     3                                           ):\n",
       "     4                                               \"\"\"Reduce contacts for share of population for which condition is fulfilled.\n",
       "     5                                           \n",
       "     6                                               The subset of contacts for which contacts are reduced is specified by the condition\n",
       "     7                                               and whoever has a positive number of contacts. Then, a share of individuals in the\n",
       "     8                                               subset is sampled and the contacts are set to 0.\n",
       "     9                                           \n",
       "    10                                               Args:\n",
       "    11                                                   contacts (pandas.Series): The series with contacts.\n",
       "    12                                                   states (pandas.DataFrame): The states of one day passed by sid.\n",
       "    13                                                   multiplier (float): The share of people who maintain their contacts\n",
       "    14                                                       despite condition.\n",
       "    15                                                   condition (str): Condition which defines the subset of individuals who\n",
       "    16                                                       potentially reduce their contacts.\n",
       "    17                                                   seed (int)\n",
       "    18                                           \n",
       "    19                                               \"\"\"\n",
       "    20         1        224.0    224.0      0.0      np.random.seed(seed)\n",
       "    21         1         15.0     15.0      0.0      if is_recurrent:\n",
       "    22                                                   reduced = reduce_recurrent_model(states, contacts, seed, multiplier)\n",
       "    23                                               else:\n",
       "    24         1     133383.0 133383.0      6.3          reduced = multiplier * contacts\n",
       "    25         1    1132980.0 1132980.0     53.1      is_condition_true = states.eval(condition)\n",
       "    26         1     865824.0 865824.0     40.6      reduced = reduced.where(is_condition_true, contacts)\n",
       "    27         1         28.0     28.0      0.0      return reduced"
      ]
     },
     "metadata": {},
     "output_type": "display_data"
    }
   ],
   "source": [
    "%lprun -f reduce_contacts_on_condition reduce_contacts_on_condition(contacts,states,multiplier=0.5,condition=\"occupation == 'working'\",seed=99,is_recurrent=False)"
   ]
  },
  {
   "cell_type": "code",
   "execution_count": 7,
   "id": "cultural-burke",
   "metadata": {},
   "outputs": [
    {
     "name": "stdout",
     "output_type": "stream",
     "text": [
      "183 ms ± 46.9 ms per loop (mean ± std. dev. of 7 runs, 1 loop each)\n"
     ]
    }
   ],
   "source": [
    "%%timeit\n",
    "\n",
    "reduce_contacts_on_condition(\n",
    "    contacts,\n",
    "    states,\n",
    "    multiplier=0.5,\n",
    "    condition=\"occupation == 'working'\",\n",
    "    seed=99,\n",
    "    is_recurrent=True,\n",
    ")"
   ]
  },
  {
   "cell_type": "code",
   "execution_count": 8,
   "id": "attended-cricket",
   "metadata": {},
   "outputs": [
    {
     "data": {
      "text/plain": [
       "Timer unit: 1e-07 s\n",
       "\n",
       "Total time: 0.269082 s\n",
       "File: <ipython-input-4-19533d051687>\n",
       "Function: reduce_contacts_on_condition at line 1\n",
       "\n",
       "Line #      Hits         Time  Per Hit   % Time  Line Contents\n",
       "==============================================================\n",
       "     1                                           def reduce_contacts_on_condition(\n",
       "     2                                               contacts, states, multiplier, condition, seed, is_recurrent\n",
       "     3                                           ):\n",
       "     4                                               \"\"\"Reduce contacts for share of population for which condition is fulfilled.\n",
       "     5                                           \n",
       "     6                                               The subset of contacts for which contacts are reduced is specified by the condition\n",
       "     7                                               and whoever has a positive number of contacts. Then, a share of individuals in the\n",
       "     8                                               subset is sampled and the contacts are set to 0.\n",
       "     9                                           \n",
       "    10                                               Args:\n",
       "    11                                                   contacts (pandas.Series): The series with contacts.\n",
       "    12                                                   states (pandas.DataFrame): The states of one day passed by sid.\n",
       "    13                                                   multiplier (float): The share of people who maintain their contacts\n",
       "    14                                                       despite condition.\n",
       "    15                                                   condition (str): Condition which defines the subset of individuals who\n",
       "    16                                                       potentially reduce their contacts.\n",
       "    17                                                   seed (int)\n",
       "    18                                           \n",
       "    19                                               \"\"\"\n",
       "    20         1        202.0    202.0      0.0      np.random.seed(seed)\n",
       "    21         1         16.0     16.0      0.0      if is_recurrent:\n",
       "    22         1    1743570.0 1743570.0     64.8          reduced = reduce_recurrent_model(states, contacts, seed, multiplier)\n",
       "    23                                               else:\n",
       "    24                                                   reduced = multiplier * contacts\n",
       "    25         1     435802.0 435802.0     16.2      is_condition_true = states.eval(condition)\n",
       "    26         1     511207.0 511207.0     19.0      reduced = reduced.where(is_condition_true, contacts)\n",
       "    27         1         27.0     27.0      0.0      return reduced"
      ]
     },
     "metadata": {},
     "output_type": "display_data"
    }
   ],
   "source": [
    "%lprun -f reduce_contacts_on_condition reduce_contacts_on_condition(contacts,states,multiplier=0.5,condition=\"occupation == 'working'\",seed=99,is_recurrent=True)"
   ]
  },
  {
   "cell_type": "code",
   "execution_count": 9,
   "id": "capital-forest",
   "metadata": {},
   "outputs": [
    {
     "name": "stdout",
     "output_type": "stream",
     "text": [
      "75.2 ms ± 16.6 ms per loop (mean ± std. dev. of 7 runs, 10 loops each)\n"
     ]
    }
   ],
   "source": [
    "%%timeit\n",
    "\n",
    "reduce_recurrent_model(states, contacts, 323, 0.5)"
   ]
  },
  {
   "cell_type": "code",
   "execution_count": 10,
   "id": "boring-florence",
   "metadata": {},
   "outputs": [
    {
     "data": {
      "text/plain": [
       "Timer unit: 1e-07 s\n",
       "\n",
       "Total time: 0.112845 s\n",
       "File: <ipython-input-4-19533d051687>\n",
       "Function: reduce_recurrent_model at line 30\n",
       "\n",
       "Line #      Hits         Time  Per Hit   % Time  Line Contents\n",
       "==============================================================\n",
       "    30                                           def reduce_recurrent_model(states, contacts, seed, multiplier):\n",
       "    31                                               \"\"\"Reduce the number of recurrent contacts taking place by a multiplier.\n",
       "    32                                           \n",
       "    33                                               For recurrent contacts only whether the contacts Series is > 0 plays a role.\n",
       "    34                                               Therefore, simply multiplying the number of contacts with it would not have\n",
       "    35                                               an effect on the number of contacts taking place. Instead we make a random share of\n",
       "    36                                               individuals scheduled to participate not participate.\n",
       "    37                                           \n",
       "    38                                               This function returns a Series of 0s and 1s.\n",
       "    39                                           \n",
       "    40                                               Args:\n",
       "    41                                                   multiplier (float or pd.Series): Must be smaller or equal to one. If a\n",
       "    42                                                       Series is supplied the index must be dates.\n",
       "    43                                           \n",
       "    44                                               \"\"\"\n",
       "    45         1        398.0    398.0      0.0      np.random.seed(seed)\n",
       "    46         1         53.0     53.0      0.0      if isinstance(multiplier, pd.Series):\n",
       "    47                                                   date = get_date(states)\n",
       "    48                                                   multiplier = multiplier[date]\n",
       "    49                                           \n",
       "    50         1       1401.0   1401.0      0.1      contacts = contacts.to_numpy()\n",
       "    51         2    1043979.0 521989.5     92.5      resampled_contacts = np.random.choice(\n",
       "    52         1        271.0    271.0      0.0          [1, 0], size=len(states), p=[multiplier, 1 - multiplier]\n",
       "    53                                               )\n",
       "    54         1      78381.0  78381.0      6.9      reduced = np.where(contacts > 0, resampled_contacts, contacts)\n",
       "    55         1       3971.0   3971.0      0.4      return pd.Series(reduced, index=states.index)"
      ]
     },
     "metadata": {},
     "output_type": "display_data"
    }
   ],
   "source": [
    "%lprun -f reduce_recurrent_model reduce_recurrent_model(states, contacts, 323, 0.5)"
   ]
  },
  {
   "cell_type": "code",
   "execution_count": 11,
   "id": "cubic-pendant",
   "metadata": {},
   "outputs": [],
   "source": [
    "def boolean_choices(truth_probabilities):\n",
    "    \"\"\"Sample boolean value with probabilities given for ``True``.\n",
    "\n",
    "    Args:\n",
    "        truth_probabilities (float): Must be between 0 and 1.\n",
    "\n",
    "    Returns:\n",
    "        bool: Boolean array.\n",
    "\n",
    "    Example:\n",
    "        >>> boolean_choice(np.array([1, 0]))\n",
    "        array([ True, False])\n",
    "\n",
    "    \"\"\"\n",
    "    u = np.random.uniform(0, 1, size=len(truth_probabilities))\n",
    "    return u <= truth_probabilities"
   ]
  },
  {
   "cell_type": "code",
   "execution_count": 12,
   "id": "prepared-focus",
   "metadata": {},
   "outputs": [
    {
     "name": "stdout",
     "output_type": "stream",
     "text": [
      "75.9 ms ± 14.5 ms per loop (mean ± std. dev. of 7 runs, 10 loops each)\n"
     ]
    }
   ],
   "source": [
    "%%timeit\n",
    "\n",
    "np.random.choice([True, False], size=len(states), p=[0.5, 1 - 0.5])"
   ]
  },
  {
   "cell_type": "code",
   "execution_count": 13,
   "id": "respiratory-essex",
   "metadata": {},
   "outputs": [
    {
     "name": "stdout",
     "output_type": "stream",
     "text": [
      "32.2 ms ± 6.05 ms per loop (mean ± std. dev. of 7 runs, 10 loops each)\n"
     ]
    }
   ],
   "source": [
    "%%timeit\n",
    "\n",
    "boolean_choices(np.full(len(states), 0.5))"
   ]
  },
  {
   "cell_type": "markdown",
   "id": "surprising-symbol",
   "metadata": {},
   "source": [
    "# Find Educ Workers With Zero Students\n",
    "\n",
    "**Klara**\n",
    "- irgendwie sind die falschen Zeilen bei \"find_educ_workers_with_zero_students\" in der Textdatei gelandet, \n",
    "  die gar nicht zu der Funktion gehören \n",
    "  \n",
    "- in _find_size_zero_classes gehen 80% auf die class_sizes = ...`.groupby`Zeile"
   ]
  },
  {
   "cell_type": "code",
   "execution_count": 14,
   "id": "sealed-context",
   "metadata": {},
   "outputs": [],
   "source": [
    "def _find_educ_workers_with_zero_students(contacts, states, group_id_column):\n",
    "    \"\"\"Return educ_workers whose classes / groups don't have any children in them.\n",
    "\n",
    "    Returns:\n",
    "        has_no_class (pandas.Series): boolean Series with the\n",
    "            same index as states. True for educ_workers whose classes / groups\n",
    "            don't have any children in them.\n",
    "\n",
    "    \"\"\"\n",
    "    size_0_classes = _find_size_zero_classes(contacts, states, group_id_column)\n",
    "    has_no_class = states[\"educ_worker\"] & states[group_id_column].isin(size_0_classes)\n",
    "    return has_no_class\n",
    "\n",
    "\n",
    "def _find_size_zero_classes(contacts, states, col):\n",
    "    students_group_ids = states[col][~states[\"educ_worker\"]]\n",
    "    students_contacts = contacts[~states[\"educ_worker\"]]\n",
    "    # the .drop(-1) is needed because we use -1 instead of NaN to identify\n",
    "    # individuals not participating in a recurrent contact model\n",
    "    class_sizes = students_contacts.groupby(students_group_ids).sum().drop(-1)\n",
    "    size_zero_classes = class_sizes[class_sizes == 0].index\n",
    "    return size_zero_classes"
   ]
  },
  {
   "cell_type": "code",
   "execution_count": 15,
   "id": "violent-acrylic",
   "metadata": {},
   "outputs": [],
   "source": [
    "school_contacts = states[\"occupation\"].isin([\"school\", \"school_teacher\"])"
   ]
  },
  {
   "cell_type": "code",
   "execution_count": 16,
   "id": "endangered-softball",
   "metadata": {},
   "outputs": [
    {
     "name": "stdout",
     "output_type": "stream",
     "text": [
      "170 ms ± 44.5 ms per loop (mean ± std. dev. of 7 runs, 1 loop each)\n"
     ]
    }
   ],
   "source": [
    "%%timeit\n",
    "\n",
    "_find_educ_workers_with_zero_students(\n",
    "    contacts=school_contacts, states=states, group_id_column=\"school_group_id_1\"\n",
    ")"
   ]
  },
  {
   "cell_type": "code",
   "execution_count": 17,
   "id": "romance-night",
   "metadata": {},
   "outputs": [
    {
     "data": {
      "text/plain": [
       "Timer unit: 1e-07 s\n",
       "\n",
       "Total time: 0.19125 s\n",
       "File: <ipython-input-14-fb48068024b5>\n",
       "Function: _find_educ_workers_with_zero_students at line 1\n",
       "\n",
       "Line #      Hits         Time  Per Hit   % Time  Line Contents\n",
       "==============================================================\n",
       "     1                                           def _find_educ_workers_with_zero_students(contacts, states, group_id_column):\n",
       "     2                                               \"\"\"Return educ_workers whose classes / groups don't have any children in them.\n",
       "     3                                           \n",
       "     4                                               Returns:\n",
       "     5                                                   has_no_class (pandas.Series): boolean Series with the\n",
       "     6                                                       same index as states. True for educ_workers whose classes / groups\n",
       "     7                                                       don't have any children in them.\n",
       "     8                                           \n",
       "     9                                               \"\"\"\n",
       "    10         1    1799436.0 1799436.0     94.1      size_0_classes = _find_size_zero_classes(contacts, states, group_id_column)\n",
       "    11         1     113050.0 113050.0      5.9      has_no_class = states[\"educ_worker\"] & states[group_id_column].isin(size_0_classes)\n",
       "    12         1         18.0     18.0      0.0      return has_no_class"
      ]
     },
     "metadata": {},
     "output_type": "display_data"
    }
   ],
   "source": [
    "%lprun -f _find_educ_workers_with_zero_students _find_educ_workers_with_zero_students(contacts=school_contacts, states=states, group_id_column=\"school_group_id_1\")"
   ]
  },
  {
   "cell_type": "code",
   "execution_count": 18,
   "id": "inner-jones",
   "metadata": {},
   "outputs": [
    {
     "name": "stdout",
     "output_type": "stream",
     "text": [
      "154 ms ± 29.8 ms per loop (mean ± std. dev. of 7 runs, 10 loops each)\n"
     ]
    }
   ],
   "source": [
    "%%timeit\n",
    "\n",
    "_find_size_zero_classes(\n",
    "    contacts=school_contacts, states=states, col=\"school_group_id_2\"\n",
    ")"
   ]
  },
  {
   "cell_type": "code",
   "execution_count": 19,
   "id": "dedicated-ultimate",
   "metadata": {},
   "outputs": [
    {
     "data": {
      "text/plain": [
       "Timer unit: 1e-07 s\n",
       "\n",
       "Total time: 0.183384 s\n",
       "File: <ipython-input-14-fb48068024b5>\n",
       "Function: _find_size_zero_classes at line 15\n",
       "\n",
       "Line #      Hits         Time  Per Hit   % Time  Line Contents\n",
       "==============================================================\n",
       "    15                                           def _find_size_zero_classes(contacts, states, col):\n",
       "    16         1     209380.0 209380.0     11.4      students_group_ids = states[col][~states[\"educ_worker\"]]\n",
       "    17         1     343274.0 343274.0     18.7      students_contacts = contacts[~states[\"educ_worker\"]]\n",
       "    18                                               # the .drop(-1) is needed because we use -1 instead of NaN to identify\n",
       "    19                                               # individuals not participating in a recurrent contact model\n",
       "    20         1    1266739.0 1266739.0     69.1      class_sizes = students_contacts.groupby(students_group_ids).sum().drop(-1)\n",
       "    21         1      14438.0  14438.0      0.8      size_zero_classes = class_sizes[class_sizes == 0].index\n",
       "    22         1         11.0     11.0      0.0      return size_zero_classes"
      ]
     },
     "metadata": {},
     "output_type": "display_data"
    }
   ],
   "source": [
    "%lprun -f _find_size_zero_classes _find_size_zero_classes(contacts=school_contacts, states=states, col=\"school_group_id_2\")"
   ]
  },
  {
   "cell_type": "markdown",
   "id": "corresponding-adobe",
   "metadata": {},
   "source": [
    "# Reduce Work Model\n",
    "\n",
    "**Klara**\n",
    "- 1/3 went into asserting that the Länder in the states and thresholds fit together \n",
    "\n",
    "    $\\Rightarrow$ I moved that to check_initial_states and only check that there are no NaN after `.map`\n",
    "    and replaced it with a check that there are no NaN after the .map operation. That takes 8% of the time\n",
    "    and could be removed.\n",
    "    \n",
    "    \n",
    "$\\Rightarrow$ `.where` statements take ~40% of the time. the `.map` statement 30%."
   ]
  },
  {
   "cell_type": "code",
   "execution_count": 20,
   "id": "turkish-interest",
   "metadata": {},
   "outputs": [],
   "source": [
    "from sid.time import get_date\n",
    "\n",
    "\n",
    "def reduce_work_model(states, contacts, seed, multiplier, is_recurrent):  # noqa: U100\n",
    "    \"\"\"Reduce contacts for the working population.\n",
    "\n",
    "    Args:\n",
    "        multiplier (float, pandas.Series, pandas.DataFrame):\n",
    "            share of workers that have work contacts.\n",
    "            If it is a Series or DataFrame, the index must be dates.\n",
    "            If it is a DataFrame the columns must be the values of\n",
    "            the \"state\" column in the states.\n",
    "        is_recurrent (bool): True if the contact model is recurernt\n",
    "\n",
    "    \"\"\"\n",
    "    if isinstance(multiplier, (pd.Series, pd.DataFrame)):\n",
    "        date = get_date(states)\n",
    "        multiplier = multiplier.loc[date]\n",
    "\n",
    "    msg = f\"Work multiplier not in [0, 1] on {get_date(states)}\"\n",
    "    if isinstance(multiplier, (float, int)):\n",
    "        assert 0 <= multiplier <= 1, msg\n",
    "    else:\n",
    "        assert (multiplier >= 0).all(), msg\n",
    "        assert (multiplier <= 1).all(), msg\n",
    "\n",
    "    threshold = 1 - multiplier\n",
    "    if isinstance(threshold, pd.Series):\n",
    "        threshold = states[\"state\"].map(threshold.get)\n",
    "        # this assert could be skipped because we check in\n",
    "        # task_check_initial_states that the federal state names overlap.\n",
    "        assert threshold.notnull().all()\n",
    "\n",
    "    above_threshold = states[\"work_contact_priority\"] > threshold\n",
    "\n",
    "    if not is_recurrent:\n",
    "        reduced_contacts = contacts.where(above_threshold, 0)\n",
    "    if is_recurrent:\n",
    "        reduced_contacts = contacts.where(above_threshold, False)\n",
    "    return reduced_contacts"
   ]
  },
  {
   "cell_type": "code",
   "execution_count": 34,
   "id": "touched-italy",
   "metadata": {},
   "outputs": [],
   "source": [
    "is_true = boolean_choices(np.full(len(contacts), 0.5))"
   ]
  },
  {
   "cell_type": "code",
   "execution_count": 37,
   "id": "legal-zimbabwe",
   "metadata": {},
   "outputs": [
    {
     "name": "stdout",
     "output_type": "stream",
     "text": [
      "16.2 ms ± 1.4 ms per loop (mean ± std. dev. of 7 runs, 100 loops each)\n"
     ]
    }
   ],
   "source": [
    "%timeit contacts.where(is_true, 0)"
   ]
  },
  {
   "cell_type": "code",
   "execution_count": 38,
   "id": "configured-gazette",
   "metadata": {},
   "outputs": [
    {
     "name": "stdout",
     "output_type": "stream",
     "text": [
      "14.5 ms ± 3.27 ms per loop (mean ± std. dev. of 7 runs, 10 loops each)\n"
     ]
    }
   ],
   "source": [
    "%timeit contacts.loc[is_true] = 5"
   ]
  },
  {
   "cell_type": "code",
   "execution_count": 21,
   "id": "plain-bloom",
   "metadata": {},
   "outputs": [
    {
     "name": "stdout",
     "output_type": "stream",
     "text": [
      "95.7 ms ± 11.2 ms per loop (mean ± std. dev. of 7 runs, 10 loops each)\n"
     ]
    }
   ],
   "source": [
    "%%timeit\n",
    "\n",
    "reduce_work_model(\n",
    "    states=states, contacts=contacts, seed=111, multiplier=0.4, is_recurrent=True\n",
    ")"
   ]
  },
  {
   "cell_type": "code",
   "execution_count": 22,
   "id": "conservative-catholic",
   "metadata": {},
   "outputs": [
    {
     "data": {
      "text/plain": [
       "Timer unit: 1e-07 s\n",
       "\n",
       "Total time: 0.110714 s\n",
       "File: <ipython-input-20-c5c510a3293d>\n",
       "Function: reduce_work_model at line 4\n",
       "\n",
       "Line #      Hits         Time  Per Hit   % Time  Line Contents\n",
       "==============================================================\n",
       "     4                                           def reduce_work_model(states, contacts, seed, multiplier, is_recurrent):  # noqa: U100\n",
       "     5                                               \"\"\"Reduce contacts for the working population.\n",
       "     6                                           \n",
       "     7                                               Args:\n",
       "     8                                                   multiplier (float, pandas.Series, pandas.DataFrame):\n",
       "     9                                                       share of workers that have work contacts.\n",
       "    10                                                       If it is a Series or DataFrame, the index must be dates.\n",
       "    11                                                       If it is a DataFrame the columns must be the values of\n",
       "    12                                                       the \"state\" column in the states.\n",
       "    13                                                   is_recurrent (bool): True if the contact model is recurernt\n",
       "    14                                           \n",
       "    15                                               \"\"\"\n",
       "    16         1         89.0     89.0      0.0      if isinstance(multiplier, (pd.Series, pd.DataFrame)):\n",
       "    17                                                   date = get_date(states)\n",
       "    18                                                   multiplier = multiplier.loc[date]\n",
       "    19                                           \n",
       "    20         1       2713.0   2713.0      0.2      msg = f\"Work multiplier not in [0, 1] on {get_date(states)}\"\n",
       "    21         1         42.0     42.0      0.0      if isinstance(multiplier, (float, int)):\n",
       "    22         1      42703.0  42703.0      3.9          assert 0 <= multiplier <= 1, msg\n",
       "    23                                               else:\n",
       "    24                                                   assert (multiplier >= 0).all(), msg\n",
       "    25                                                   assert (multiplier <= 1).all(), msg\n",
       "    26                                           \n",
       "    27         1         55.0     55.0      0.0      threshold = 1 - multiplier\n",
       "    28         1         65.0     65.0      0.0      if isinstance(threshold, pd.Series):\n",
       "    29                                                   threshold = states[\"state\"].map(threshold.get)\n",
       "    30                                                   # this assert could be skipped because we check in\n",
       "    31                                                   # task_check_initial_states that the federal state names overlap.\n",
       "    32                                                   assert threshold.notnull().all()\n",
       "    33                                           \n",
       "    34         1     172037.0 172037.0     15.5      above_threshold = states[\"work_contact_priority\"] > threshold\n",
       "    35                                           \n",
       "    36         1         39.0     39.0      0.0      if not is_recurrent:\n",
       "    37                                                   reduced_contacts = contacts.where(above_threshold, 0)\n",
       "    38         1         32.0     32.0      0.0      if is_recurrent:\n",
       "    39         1     889345.0 889345.0     80.3          reduced_contacts = contacts.where(above_threshold, False)\n",
       "    40         1         21.0     21.0      0.0      return reduced_contacts"
      ]
     },
     "metadata": {},
     "output_type": "display_data"
    }
   ],
   "source": [
    "%lprun -f reduce_work_model reduce_work_model(states=states, contacts=contacts, seed=111, multiplier=0.4, is_recurrent=True)"
   ]
  },
  {
   "cell_type": "markdown",
   "id": "exceptional-statement",
   "metadata": {},
   "source": [
    "# Demand Test\n",
    "\n",
    "- 70% of time goes to `_scale_demand_up_or_down`\n",
    "\n",
    "- of `_scale_demand_up_or_down` >90% go to `_decrease_test_demand`\n",
    "\n",
    "- of `_decrease_test_demand`: 93.7% go to `states[demanded].query(f\"age_group_rki == '{group}'\").index`\n",
    "\n",
    "- of `_increase_test_demand`: >90% go to `infected_untested = states.index[states.eval(selection_string) & ~demanded]`"
   ]
  },
  {
   "cell_type": "code",
   "execution_count": 39,
   "id": "wrong-frontier",
   "metadata": {},
   "outputs": [],
   "source": [
    "import warnings\n",
    "\n",
    "\n",
    "def _decrease_test_demand(demanded, states, n_to_remove, group):\n",
    "    \"\"\"Decrease the number of tests demanded in an age group by a certain number.\n",
    "\n",
    "    This is called when the endogenously demanded tests (symptomatics + educ workers)\n",
    "    already exceed the designated number of positive tests in an age group.\n",
    "\n",
    "    \"\"\"\n",
    "    demanded = demanded.copy(deep=True)\n",
    "\n",
    "    demanding_test_in_age_group = (\n",
    "        states[demanded].query(f\"age_group_rki == '{group}'\").index\n",
    "    )\n",
    "    drawn = np.random.choice(\n",
    "        a=demanding_test_in_age_group, size=n_to_remove, replace=False\n",
    "    )\n",
    "    demanded.loc[drawn] = False\n",
    "    return demanded\n",
    "\n",
    "\n",
    "def _increase_test_demand(demanded, states, n_undemanded_tests, group):\n",
    "    \"\"\"Randomly increase the number of tests demanded in an age group.\n",
    "    This is the case where we have additional positive tests to distribute.\n",
    "\n",
    "    \"\"\"\n",
    "    demanded = demanded.copy(deep=True)\n",
    "\n",
    "    right_age_group = f\"(age_group_rki == '{group}')\"\n",
    "    currently_infected = \"(infectious | symptomatic | (cd_infectious_true >= 0))\"\n",
    "    untested = \"(~pending_test & ~knows_immune)\"\n",
    "    selection_string = right_age_group + \" & \" + currently_infected + \" & \" + untested\n",
    "\n",
    "    condition = states.eval(selection_string)\n",
    "    infected_untested = states.index[condition & ~demanded]\n",
    "\n",
    "    if len(infected_untested) >= n_undemanded_tests:\n",
    "        drawn = np.random.choice(infected_untested, n_undemanded_tests, replace=False)\n",
    "    else:\n",
    "        date = get_date(states)\n",
    "        warnings.warn(\n",
    "            f\"\\n\\nThe implied share_known_cases for age group {group} is >1 \"\n",
    "            f\"on date {date.date()} ({date.day_name()}).\\n\\n\"\n",
    "        )\n",
    "        drawn = infected_untested\n",
    "    demanded.loc[drawn] = True\n",
    "    return demanded"
   ]
  },
  {
   "cell_type": "code",
   "execution_count": 40,
   "id": "homeless-sherman",
   "metadata": {},
   "outputs": [],
   "source": [
    "demanded = pd.Series(True, index=states.index)"
   ]
  },
  {
   "cell_type": "code",
   "execution_count": 41,
   "id": "disabled-index",
   "metadata": {},
   "outputs": [
    {
     "name": "stdout",
     "output_type": "stream",
     "text": [
      "719 ms ± 62.9 ms per loop (mean ± std. dev. of 7 runs, 1 loop each)\n"
     ]
    }
   ],
   "source": [
    "%%timeit\n",
    "\n",
    "_decrease_test_demand(demanded, states, n_to_remove=30, group=\"80-100\")"
   ]
  },
  {
   "cell_type": "code",
   "execution_count": 42,
   "id": "aggregate-baptist",
   "metadata": {},
   "outputs": [
    {
     "data": {
      "text/plain": [
       "Timer unit: 1e-07 s\n",
       "\n",
       "Total time: 0.788305 s\n",
       "File: <ipython-input-39-318ba63a9c3f>\n",
       "Function: _decrease_test_demand at line 4\n",
       "\n",
       "Line #      Hits         Time  Per Hit   % Time  Line Contents\n",
       "==============================================================\n",
       "     4                                           def _decrease_test_demand(demanded, states, n_to_remove, group):\n",
       "     5                                               \"\"\"Decrease the number of tests demanded in an age group by a certain number.\n",
       "     6                                           \n",
       "     7                                               This is called when the endogenously demanded tests (symptomatics + educ workers)\n",
       "     8                                               already exceed the designated number of positive tests in an age group.\n",
       "     9                                           \n",
       "    10                                               \"\"\"\n",
       "    11         1      14980.0  14980.0      0.2      demanded = demanded.copy(deep=True)\n",
       "    12                                           \n",
       "    13         1         24.0     24.0      0.0      demanding_test_in_age_group = (\n",
       "    14         1    7784798.0 7784798.0     98.8          states[demanded].query(f\"age_group_rki == '{group}'\").index\n",
       "    15                                               )\n",
       "    16         2      19392.0   9696.0      0.2      drawn = np.random.choice(\n",
       "    17         1          7.0      7.0      0.0          a=demanding_test_in_age_group, size=n_to_remove, replace=False\n",
       "    18                                               )\n",
       "    19         1      63822.0  63822.0      0.8      demanded.loc[drawn] = False\n",
       "    20         1         23.0     23.0      0.0      return demanded"
      ]
     },
     "metadata": {},
     "output_type": "display_data"
    }
   ],
   "source": [
    "%lprun -f _decrease_test_demand _decrease_test_demand(demanded, states, n_to_remove=30, group=\"80-100\")"
   ]
  },
  {
   "cell_type": "code",
   "execution_count": 43,
   "id": "improved-humanity",
   "metadata": {},
   "outputs": [
    {
     "name": "stderr",
     "output_type": "stream",
     "text": [
      "<ipython-input-39-318ba63a9c3f>:42: UserWarning: \n",
      "\n",
      "The implied share_known_cases for age group 80-100 is >1 on date 2021-03-01 (Monday).\n",
      "\n",
      "\n",
      "  warnings.warn(\n"
     ]
    },
    {
     "name": "stdout",
     "output_type": "stream",
     "text": [
      "86.3 ms ± 8.3 ms per loop (mean ± std. dev. of 7 runs, 10 loops each)\n"
     ]
    }
   ],
   "source": [
    "%%timeit\n",
    "\n",
    "_increase_test_demand(demanded, states, n_undemanded_tests=20, group=\"80-100\")"
   ]
  },
  {
   "cell_type": "code",
   "execution_count": 44,
   "id": "optional-fighter",
   "metadata": {},
   "outputs": [
    {
     "name": "stderr",
     "output_type": "stream",
     "text": [
      "<ipython-input-39-318ba63a9c3f>:42: UserWarning: \n",
      "\n",
      "The implied share_known_cases for age group 80-100 is >1 on date 2021-03-01 (Monday).\n",
      "\n",
      "\n",
      "  warnings.warn(\n"
     ]
    },
    {
     "data": {
      "text/plain": [
       "Timer unit: 1e-07 s\n",
       "\n",
       "Total time: 0.198663 s\n",
       "File: <ipython-input-39-318ba63a9c3f>\n",
       "Function: _increase_test_demand at line 23\n",
       "\n",
       "Line #      Hits         Time  Per Hit   % Time  Line Contents\n",
       "==============================================================\n",
       "    23                                           def _increase_test_demand(demanded, states, n_undemanded_tests, group):\n",
       "    24                                               \"\"\"Randomly increase the number of tests demanded in an age group.\n",
       "    25                                               This is the case where we have additional positive tests to distribute.\n",
       "    26                                           \n",
       "    27                                               \"\"\"\n",
       "    28         1      17099.0  17099.0      0.9      demanded = demanded.copy(deep=True)\n",
       "    29                                           \n",
       "    30         1         61.0     61.0      0.0      right_age_group = f\"(age_group_rki == '{group}')\"\n",
       "    31         1         20.0     20.0      0.0      currently_infected = \"(infectious | symptomatic | (cd_infectious_true >= 0))\"\n",
       "    32         1         17.0     17.0      0.0      untested = \"(~pending_test & ~knows_immune)\"\n",
       "    33         1         45.0     45.0      0.0      selection_string = right_age_group + \" & \" + currently_infected + \" & \" + untested\n",
       "    34                                           \n",
       "    35         1    1715673.0 1715673.0     86.4      condition = states.eval(selection_string)\n",
       "    36         1     115693.0 115693.0      5.8      infected_untested = states.index[condition & ~demanded]\n",
       "    37                                           \n",
       "    38         1         81.0     81.0      0.0      if len(infected_untested) >= n_undemanded_tests:\n",
       "    39                                                   drawn = np.random.choice(infected_untested, n_undemanded_tests, replace=False)\n",
       "    40                                               else:\n",
       "    41         1       1779.0   1779.0      0.1          date = get_date(states)\n",
       "    42         2      20041.0  10020.5      1.0          warnings.warn(\n",
       "    43         1        670.0    670.0      0.0              f\"\\n\\nThe implied share_known_cases for age group {group} is >1 \"\n",
       "    44                                                       f\"on date {date.date()} ({date.day_name()}).\\n\\n\"\n",
       "    45                                                   )\n",
       "    46         1         32.0     32.0      0.0          drawn = infected_untested\n",
       "    47         1     115366.0 115366.0      5.8      demanded.loc[drawn] = True\n",
       "    48         1         49.0     49.0      0.0      return demanded"
      ]
     },
     "metadata": {},
     "output_type": "display_data"
    }
   ],
   "source": [
    "%lprun -f _increase_test_demand _increase_test_demand(demanded, states, n_undemanded_tests=20, group=\"80-100\")"
   ]
  },
  {
   "cell_type": "code",
   "execution_count": null,
   "id": "liberal-sequence",
   "metadata": {},
   "outputs": [],
   "source": []
  }
 ],
 "metadata": {
  "kernelspec": {
   "display_name": "Python 3",
   "language": "python",
   "name": "python3"
  },
  "language_info": {
   "codemirror_mode": {
    "name": "ipython",
    "version": 3
   },
   "file_extension": ".py",
   "mimetype": "text/x-python",
   "name": "python",
   "nbconvert_exporter": "python",
   "pygments_lexer": "ipython3",
   "version": "3.8.8"
  }
 },
 "nbformat": 4,
 "nbformat_minor": 5
}
