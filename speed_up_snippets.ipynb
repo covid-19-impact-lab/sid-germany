{
 "cells": [
  {
   "cell_type": "code",
   "execution_count": 1,
   "id": "seventh-marker",
   "metadata": {},
   "outputs": [],
   "source": [
    "from pathlib import Path\n",
    "\n",
    "import matplotlib.pyplot as plt\n",
    "import numpy as np\n",
    "import pandas as pd\n",
    "import seaborn as sns\n",
    "\n",
    "from src.config import BLD, SRC\n",
    "from src.create_initial_states.task_build_full_params import (\n",
    "    _convert_index_to_int_where_possible,\n",
    ")\n",
    "from src.simulation.plotting import plot_incidences, style_plot"
   ]
  },
  {
   "cell_type": "code",
   "execution_count": 2,
   "id": "horizontal-pressure",
   "metadata": {},
   "outputs": [],
   "source": [
    "states = pd.read_parquet(BLD / \"data\" / \"initial_states.parquet\")\n",
    "states[\"date\"] = pd.Timestamp(\"2021-03-01\")\n",
    "states[\"infectious\"] = np.random.choice([True, False], size=len(states), p=[0.99, 0.01])\n",
    "states[\"symptomatic\"] = np.random.choice(\n",
    "    [True, False], size=len(states), p=[0.99, 0.01]\n",
    ")\n",
    "states[\"cd_infectious_true\"] = np.random.choice(\n",
    "    [-104, 0, -1, 3], size=len(states), p=[0.97, 0.01, 0.01, 0.01]\n",
    ")\n",
    "states[\"pending_test\"] = np.random.choice(\n",
    "    [True, False], size=len(states), p=[0.03, 0.97]\n",
    ")\n",
    "states[\"knows_immune\"] = np.random.choice(\n",
    "    [True, False], size=len(states), p=[0.07, 0.93]\n",
    ")\n",
    "\n",
    "contacts = pd.Series(1, index=states.index)"
   ]
  },
  {
   "cell_type": "code",
   "execution_count": null,
   "id": "twenty-fetish",
   "metadata": {},
   "outputs": [],
   "source": []
  },
  {
   "cell_type": "markdown",
   "id": "enclosed-median",
   "metadata": {},
   "source": [
    "# Reduce Contacts on Condition\n",
    "\n",
    "- 35.5% go to reduce_recurrent_model\n",
    "- in reduce_recurrent_model it looks as if 85% are on the last line of the docstring. That's strange."
   ]
  },
  {
   "cell_type": "code",
   "execution_count": 3,
   "id": "european-bonus",
   "metadata": {},
   "outputs": [],
   "source": [
    "def reduce_contacts_on_condition(\n",
    "    contacts, states, multiplier, condition, seed, is_recurrent\n",
    "):\n",
    "    \"\"\"Reduce contacts for share of population for which condition is fulfilled.\n",
    "\n",
    "    The subset of contacts for which contacts are reduced is specified by the condition\n",
    "    and whoever has a positive number of contacts. Then, a share of individuals in the\n",
    "    subset is sampled and the contacts are set to 0.\n",
    "\n",
    "    Args:\n",
    "        contacts (pandas.Series): The series with contacts.\n",
    "        states (pandas.DataFrame): The states of one day passed by sid.\n",
    "        multiplier (float): The share of people who maintain their contacts\n",
    "            despite condition.\n",
    "        condition (str): Condition which defines the subset of individuals who\n",
    "            potentially reduce their contacts.\n",
    "        seed (int)\n",
    "\n",
    "    \"\"\"\n",
    "    np.random.seed(seed)\n",
    "    if is_recurrent:\n",
    "        reduced = reduce_recurrent_model(states, contacts, seed, multiplier)\n",
    "    else:\n",
    "        reduced = multiplier * contacts\n",
    "    is_condition_true = states.eval(condition)\n",
    "    reduced = reduced.where(is_condition_true, contacts)\n",
    "    return reduced\n",
    "\n",
    "\n",
    "def reduce_recurrent_model(states, contacts, seed, multiplier):\n",
    "    \"\"\"Reduce the number of recurrent contacts taking place by a multiplier.\n",
    "\n",
    "    For recurrent contacts only whether the contacts Series is > 0 plays a role.\n",
    "    Therefore, simply multiplying the number of contacts with it would not have\n",
    "    an effect on the number of contacts taking place. Instead we make a random share of\n",
    "    individuals scheduled to participate not participate.\n",
    "\n",
    "    This function returns a Series of 0s and 1s.\n",
    "\n",
    "    Args:\n",
    "        multiplier (float or pd.Series): Must be smaller or equal to one. If a\n",
    "            Series is supplied the index must be dates.\n",
    "\n",
    "    \"\"\"\n",
    "    np.random.seed(seed)\n",
    "    if isinstance(multiplier, pd.Series):\n",
    "        date = get_date(states)\n",
    "        multiplier = multiplier[date]\n",
    "\n",
    "    contacts = contacts.to_numpy()\n",
    "    resampled_contacts = np.random.choice(\n",
    "        [1, 0], size=len(states), p=[multiplier, 1 - multiplier]\n",
    "    )\n",
    "    reduced = np.where(contacts > 0, resampled_contacts, contacts)\n",
    "    return pd.Series(reduced, index=states.index)"
   ]
  },
  {
   "cell_type": "code",
   "execution_count": 4,
   "id": "limiting-graham",
   "metadata": {},
   "outputs": [
    {
     "name": "stdout",
     "output_type": "stream",
     "text": [
      "28.5 ms ± 1.25 ms per loop (mean ± std. dev. of 7 runs, 10 loops each)\n"
     ]
    }
   ],
   "source": [
    "%%timeit\n",
    "\n",
    "reduce_contacts_on_condition(\n",
    "    contacts,\n",
    "    states,\n",
    "    multiplier=0.5,\n",
    "    condition=\"occupation == 'working'\",\n",
    "    seed=99,\n",
    "    is_recurrent=False,\n",
    ")"
   ]
  },
  {
   "cell_type": "code",
   "execution_count": 5,
   "id": "multiple-intensity",
   "metadata": {},
   "outputs": [
    {
     "name": "stdout",
     "output_type": "stream",
     "text": [
      "46.5 ms ± 314 µs per loop (mean ± std. dev. of 7 runs, 10 loops each)\n"
     ]
    }
   ],
   "source": [
    "%%timeit\n",
    "\n",
    "reduce_contacts_on_condition(\n",
    "    contacts,\n",
    "    states,\n",
    "    multiplier=0.5,\n",
    "    condition=\"occupation == 'working'\",\n",
    "    seed=99,\n",
    "    is_recurrent=True,\n",
    ")"
   ]
  },
  {
   "cell_type": "code",
   "execution_count": 6,
   "id": "normal-fountain",
   "metadata": {},
   "outputs": [
    {
     "name": "stdout",
     "output_type": "stream",
     "text": [
      "23.4 ms ± 428 µs per loop (mean ± std. dev. of 7 runs, 10 loops each)\n"
     ]
    }
   ],
   "source": [
    "%%timeit\n",
    "\n",
    "reduce_recurrent_model(states, contacts, 323, 0.5)"
   ]
  },
  {
   "cell_type": "markdown",
   "id": "insured-message",
   "metadata": {},
   "source": [
    "# Find Educ Workers With Zero Students\n",
    "\n",
    "- irgendwie sind die falschen Zeilen bei \"find_educ_workers_with_zero_students\" in der Textdatei gelandet, \n",
    "  die gar nicht zu der Funktion gehören \n",
    "  \n",
    "  -> ich hab das Notebook neu gestartet \n",
    "  \n",
    "- in _find_size_zero_classes gehen 80% auf die class_sizes = ...`.groupby`Zeile"
   ]
  },
  {
   "cell_type": "code",
   "execution_count": 7,
   "id": "julian-advantage",
   "metadata": {},
   "outputs": [],
   "source": [
    "def _find_educ_workers_with_zero_students(contacts, states, group_id_column):\n",
    "    \"\"\"Return educ_workers whose classes / groups don't have any children in them.\n",
    "\n",
    "    Returns:\n",
    "        has_no_class (pandas.Series): boolean Series with the\n",
    "            same index as states. True for educ_workers whose classes / groups\n",
    "            don't have any children in them.\n",
    "\n",
    "    \"\"\"\n",
    "    size_0_classes = _find_size_zero_classes(contacts, states, group_id_column)\n",
    "    has_no_class = states[\"educ_worker\"] & states[group_id_column].isin(size_0_classes)\n",
    "    return has_no_class\n",
    "\n",
    "\n",
    "def _find_size_zero_classes(contacts, states, col):\n",
    "    students_group_ids = states[col][~states[\"educ_worker\"]]\n",
    "    students_contacts = contacts[~states[\"educ_worker\"]]\n",
    "    # the .drop(-1) is needed because we use -1 instead of NaN to identify\n",
    "    # individuals not participating in a recurrent contact model\n",
    "    class_sizes = students_contacts.groupby(students_group_ids).sum().drop(-1)\n",
    "    size_zero_classes = class_sizes[class_sizes == 0].index\n",
    "    return size_zero_classes"
   ]
  },
  {
   "cell_type": "code",
   "execution_count": 8,
   "id": "dense-basics",
   "metadata": {},
   "outputs": [],
   "source": [
    "school_contacts = states[\"occupation\"].isin([\"school\", \"school_teacher\"])"
   ]
  },
  {
   "cell_type": "code",
   "execution_count": 9,
   "id": "collectible-aerospace",
   "metadata": {},
   "outputs": [
    {
     "name": "stdout",
     "output_type": "stream",
     "text": [
      "44.3 ms ± 499 µs per loop (mean ± std. dev. of 7 runs, 10 loops each)\n"
     ]
    }
   ],
   "source": [
    "%%timeit\n",
    "\n",
    "_find_educ_workers_with_zero_students(\n",
    "    contacts=school_contacts, states=states, group_id_column=\"school_group_id_1\"\n",
    ")"
   ]
  },
  {
   "cell_type": "code",
   "execution_count": 10,
   "id": "historical-drilling",
   "metadata": {},
   "outputs": [
    {
     "name": "stdout",
     "output_type": "stream",
     "text": [
      "43 ms ± 568 µs per loop (mean ± std. dev. of 7 runs, 10 loops each)\n"
     ]
    }
   ],
   "source": [
    "%%timeit\n",
    "\n",
    "_find_size_zero_classes(\n",
    "    contacts=school_contacts, states=states, col=\"school_group_id_2\"\n",
    ")"
   ]
  },
  {
   "cell_type": "markdown",
   "id": "copyrighted-shelter",
   "metadata": {},
   "source": [
    "# Reduce Work Model\n",
    "\n",
    "- 1/3 went into asserting that the Länder in the states and thresholds fit together \n",
    "\n",
    "    $\\Rightarrow$ I moved that to check_initial_states and only check that there are no NaN after `.map`\n",
    "    and replaced it with a check that there are no NaN after the .map operation. That takes 8% of the time\n",
    "    and could be removed.\n",
    "    \n",
    "    \n",
    "$\\Rightarrow$ `.where` statements take ~40% of the time. the `.map` statement 30%."
   ]
  },
  {
   "cell_type": "code",
   "execution_count": 11,
   "id": "powerful-uganda",
   "metadata": {},
   "outputs": [],
   "source": [
    "from sid.time import get_date\n",
    "\n",
    "\n",
    "def reduce_work_model(states, contacts, seed, multiplier, is_recurrent):  # noqa: U100\n",
    "    \"\"\"Reduce contacts for the working population.\n",
    "\n",
    "    Args:\n",
    "        multiplier (float, pandas.Series, pandas.DataFrame):\n",
    "            share of workers that have work contacts.\n",
    "            If it is a Series or DataFrame, the index must be dates.\n",
    "            If it is a DataFrame the columns must be the values of\n",
    "            the \"state\" column in the states.\n",
    "        is_recurrent (bool): True if the contact model is recurernt\n",
    "\n",
    "    \"\"\"\n",
    "    if isinstance(multiplier, (pd.Series, pd.DataFrame)):\n",
    "        date = get_date(states)\n",
    "        multiplier = multiplier.loc[date]\n",
    "\n",
    "    msg = f\"Work multiplier not in [0, 1] on {get_date(states)}\"\n",
    "    if isinstance(multiplier, (float, int)):\n",
    "        assert 0 <= multiplier <= 1, msg\n",
    "    else:\n",
    "        assert (multiplier >= 0).all(), msg\n",
    "        assert (multiplier <= 1).all(), msg\n",
    "\n",
    "    threshold = 1 - multiplier\n",
    "    if isinstance(threshold, pd.Series):\n",
    "        threshold = states[\"state\"].map(threshold.get)\n",
    "        # this assert could be skipped because we check in\n",
    "        # task_check_initial_states that the federal state names overlap.\n",
    "        assert threshold.notnull().all()\n",
    "\n",
    "    above_threshold = states[\"work_contact_priority\"] > threshold\n",
    "\n",
    "    if not is_recurrent:\n",
    "        reduced_contacts = contacts.where(above_threshold, 0)\n",
    "    if is_recurrent:\n",
    "        reduced_contacts = contacts.where(above_threshold, False)\n",
    "    return reduced_contacts"
   ]
  },
  {
   "cell_type": "code",
   "execution_count": 12,
   "id": "welcome-royalty",
   "metadata": {},
   "outputs": [
    {
     "name": "stdout",
     "output_type": "stream",
     "text": [
      "37.3 ms ± 283 µs per loop (mean ± std. dev. of 7 runs, 10 loops each)\n"
     ]
    }
   ],
   "source": [
    "%%timeit\n",
    "\n",
    "reduce_work_model(\n",
    "    states=states, contacts=contacts, seed=111, multiplier=0.4, is_recurrent=True\n",
    ")"
   ]
  },
  {
   "cell_type": "code",
   "execution_count": null,
   "id": "permanent-legend",
   "metadata": {},
   "outputs": [],
   "source": []
  },
  {
   "cell_type": "markdown",
   "id": "decimal-whole",
   "metadata": {},
   "source": [
    "# Demand Test\n",
    "\n",
    "- 70% of time goes to `_scale_demand_up_or_down`\n",
    "\n",
    "- of `_scale_demand_up_or_down` >90% go to `_decrease_test_demand`\n",
    "\n",
    "- of `_decrease_test_demand`: 93.7% go to `states[demanded].query(f\"age_group_rki == '{group}'\").index`\n",
    "\n",
    "- of `_increase_test_demand`: >90% go to `infected_untested = states.index[states.eval(selection_string) & ~demanded]`"
   ]
  },
  {
   "cell_type": "code",
   "execution_count": 13,
   "id": "utility-profit",
   "metadata": {},
   "outputs": [],
   "source": [
    "import warnings\n",
    "\n",
    "\n",
    "def _decrease_test_demand(demanded, states, n_to_remove, group):\n",
    "    \"\"\"Decrease the number of tests demanded in an age group by a certain number.\n",
    "\n",
    "    This is called when the endogenously demanded tests (symptomatics + educ workers)\n",
    "    already exceed the designated number of positive tests in an age group.\n",
    "\n",
    "    \"\"\"\n",
    "    demanded = demanded.copy(deep=True)\n",
    "\n",
    "    demanding_test_in_age_group = (\n",
    "        states[demanded].query(f\"age_group_rki == '{group}'\").index\n",
    "    )\n",
    "    drawn = np.random.choice(\n",
    "        a=demanding_test_in_age_group, size=n_to_remove, replace=False\n",
    "    )\n",
    "    demanded.loc[drawn] = False\n",
    "    return demanded\n",
    "\n",
    "\n",
    "def _increase_test_demand(demanded, states, n_undemanded_tests, group):\n",
    "    \"\"\"Randomly increase the number of tests demanded in an age group.\n",
    "    This is the case where we have additional positive tests to distribute.\n",
    "\n",
    "    \"\"\"\n",
    "    demanded = demanded.copy(deep=True)\n",
    "\n",
    "    right_age_group = f\"(age_group_rki == '{group}')\"\n",
    "    currently_infected = \"(infectious | symptomatic | (cd_infectious_true >= 0))\"\n",
    "    untested = \"(~pending_test & ~knows_immune)\"\n",
    "    selection_string = right_age_group + \" & \" + currently_infected + \" & \" + untested\n",
    "\n",
    "    infected_untested = states.index[states.eval(selection_string) & ~demanded]\n",
    "\n",
    "    if len(infected_untested) >= n_undemanded_tests:\n",
    "        drawn = np.random.choice(infected_untested, n_undemanded_tests, replace=False)\n",
    "    else:\n",
    "        date = get_date(states)\n",
    "        warnings.warn(\n",
    "            f\"\\n\\nThe implied share_known_cases for age group {group} is >1 \"\n",
    "            f\"on date {date.date()} ({date.day_name()}).\\n\\n\"\n",
    "        )\n",
    "        drawn = infected_untested\n",
    "    demanded.loc[drawn] = True\n",
    "    return demanded"
   ]
  },
  {
   "cell_type": "code",
   "execution_count": 14,
   "id": "imposed-latin",
   "metadata": {},
   "outputs": [],
   "source": [
    "demanded = pd.Series(True, index=states.index)"
   ]
  },
  {
   "cell_type": "code",
   "execution_count": 15,
   "id": "union-performer",
   "metadata": {},
   "outputs": [
    {
     "name": "stdout",
     "output_type": "stream",
     "text": [
      "239 ms ± 2.8 ms per loop (mean ± std. dev. of 7 runs, 1 loop each)\n"
     ]
    }
   ],
   "source": [
    "%%timeit\n",
    "\n",
    "_decrease_test_demand(demanded, states, n_to_remove=30, group=\"80-100\")"
   ]
  },
  {
   "cell_type": "code",
   "execution_count": 16,
   "id": "charitable-latitude",
   "metadata": {},
   "outputs": [
    {
     "name": "stderr",
     "output_type": "stream",
     "text": [
      "<ipython-input-13-4e456bdd0f8b>:41: UserWarning: \n",
      "\n",
      "The implied share_known_cases for age group 80-100 is >1 on date 2021-03-01 (Monday).\n",
      "\n",
      "\n",
      "  warnings.warn(\n"
     ]
    },
    {
     "name": "stdout",
     "output_type": "stream",
     "text": [
      "11.2 ms ± 329 µs per loop (mean ± std. dev. of 7 runs, 100 loops each)\n"
     ]
    }
   ],
   "source": [
    "%%timeit\n",
    "\n",
    "_increase_test_demand(demanded, states, n_undemanded_tests=20, group=\"80-100\")"
   ]
  },
  {
   "cell_type": "code",
   "execution_count": null,
   "id": "intense-possession",
   "metadata": {},
   "outputs": [],
   "source": []
  },
  {
   "cell_type": "code",
   "execution_count": null,
   "id": "alone-initial",
   "metadata": {},
   "outputs": [],
   "source": []
  }
 ],
 "metadata": {
  "kernelspec": {
   "display_name": "Python 3",
   "language": "python",
   "name": "python3"
  },
  "language_info": {
   "codemirror_mode": {
    "name": "ipython",
    "version": 3
   },
   "file_extension": ".py",
   "mimetype": "text/x-python",
   "name": "python",
   "nbconvert_exporter": "python",
   "pygments_lexer": "ipython3",
   "version": "3.8.8"
  }
 },
 "nbformat": 4,
 "nbformat_minor": 5
}
